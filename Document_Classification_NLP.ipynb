{
  "nbformat": 4,
  "nbformat_minor": 0,
  "metadata": {
    "colab": {
      "provenance": []
    },
    "kernelspec": {
      "name": "python3",
      "display_name": "Python 3"
    },
    "language_info": {
      "name": "python"
    }
  },
  "cells": [
    {
      "cell_type": "markdown",
      "source": [
        "# Classification of Botany books in PDF format into Animal species, Plant Species or Mixed type using NLP toolkit~nltk.\n",
        "\n",
        "\n",
        "1.   Training Data and Test data contains 3 columns - 'File_ID', 'Is_Mixed','Topic'\n",
        "2.   Each File ID is unique and contains details of a topic with varied number of pages\n",
        "3.   Each PDF needs to be read, identify the topic and determine whether it focuses on animals, plants or both\n",
        "4.   For each PDF file we shall check the highest probability of a word occuring and identify the topic\n",
        "\n"
      ],
      "metadata": {
        "id": "tCQtIjBdNAeP"
      }
    },
    {
      "cell_type": "markdown",
      "source": [
        "## Data Loading and Reading the PDF Files into Pandas df"
      ],
      "metadata": {
        "id": "gBZErggiQ5Ws"
      }
    },
    {
      "cell_type": "code",
      "execution_count": null,
      "metadata": {
        "id": "dg2PufoZL4Cw"
      },
      "outputs": [],
      "source": [
        "#We will download the dataset from https://s3-ap-southeast-1.amazonaws.com/he-public-data/dataset6f31ddd.zip\n",
        "#Once we unzip the dataset we will have the train.csv and test.csv\n",
        "#It will also contain 2 folders - train & test which will have the respective PDF files\n",
        "\n",
        "!wget https://s3-ap-southeast-1.amazonaws.com/he-public-data/dataset6f31ddd.zip\n",
        "!unzip dataset6f31ddd.zip"
      ]
    },
    {
      "cell_type": "code",
      "source": [
        "#Let's read the train.csv and check the schema\n",
        "import pandas as pd\n",
        "df_train_csv = pd.read_csv('/content/dataset/train.csv')\n",
        "df_train_csv.head(3)"
      ],
      "metadata": {
        "colab": {
          "base_uri": "https://localhost:8080/",
          "height": 143
        },
        "id": "RHmS7dMcRH4e",
        "outputId": "e214548e-6bd4-4271-8105-a8febdde0459"
      },
      "execution_count": 2,
      "outputs": [
        {
          "output_type": "execute_result",
          "data": {
            "text/plain": [
              "   File_ID Is_Mixedup           Topic\n",
              "0  0x20de0         NO  Animal Species\n",
              "1  0x23264         NO   Plant Species\n",
              "2  0x22e2e         NO  Animal Species"
            ],
            "text/html": [
              "\n",
              "\n",
              "  <div id=\"df-2aeb5210-b4d0-4431-b2ab-a9335ea051ec\">\n",
              "    <div class=\"colab-df-container\">\n",
              "      <div>\n",
              "<style scoped>\n",
              "    .dataframe tbody tr th:only-of-type {\n",
              "        vertical-align: middle;\n",
              "    }\n",
              "\n",
              "    .dataframe tbody tr th {\n",
              "        vertical-align: top;\n",
              "    }\n",
              "\n",
              "    .dataframe thead th {\n",
              "        text-align: right;\n",
              "    }\n",
              "</style>\n",
              "<table border=\"1\" class=\"dataframe\">\n",
              "  <thead>\n",
              "    <tr style=\"text-align: right;\">\n",
              "      <th></th>\n",
              "      <th>File_ID</th>\n",
              "      <th>Is_Mixedup</th>\n",
              "      <th>Topic</th>\n",
              "    </tr>\n",
              "  </thead>\n",
              "  <tbody>\n",
              "    <tr>\n",
              "      <th>0</th>\n",
              "      <td>0x20de0</td>\n",
              "      <td>NO</td>\n",
              "      <td>Animal Species</td>\n",
              "    </tr>\n",
              "    <tr>\n",
              "      <th>1</th>\n",
              "      <td>0x23264</td>\n",
              "      <td>NO</td>\n",
              "      <td>Plant Species</td>\n",
              "    </tr>\n",
              "    <tr>\n",
              "      <th>2</th>\n",
              "      <td>0x22e2e</td>\n",
              "      <td>NO</td>\n",
              "      <td>Animal Species</td>\n",
              "    </tr>\n",
              "  </tbody>\n",
              "</table>\n",
              "</div>\n",
              "      <button class=\"colab-df-convert\" onclick=\"convertToInteractive('df-2aeb5210-b4d0-4431-b2ab-a9335ea051ec')\"\n",
              "              title=\"Convert this dataframe to an interactive table.\"\n",
              "              style=\"display:none;\">\n",
              "\n",
              "  <svg xmlns=\"http://www.w3.org/2000/svg\" height=\"24px\"viewBox=\"0 0 24 24\"\n",
              "       width=\"24px\">\n",
              "    <path d=\"M0 0h24v24H0V0z\" fill=\"none\"/>\n",
              "    <path d=\"M18.56 5.44l.94 2.06.94-2.06 2.06-.94-2.06-.94-.94-2.06-.94 2.06-2.06.94zm-11 1L8.5 8.5l.94-2.06 2.06-.94-2.06-.94L8.5 2.5l-.94 2.06-2.06.94zm10 10l.94 2.06.94-2.06 2.06-.94-2.06-.94-.94-2.06-.94 2.06-2.06.94z\"/><path d=\"M17.41 7.96l-1.37-1.37c-.4-.4-.92-.59-1.43-.59-.52 0-1.04.2-1.43.59L10.3 9.45l-7.72 7.72c-.78.78-.78 2.05 0 2.83L4 21.41c.39.39.9.59 1.41.59.51 0 1.02-.2 1.41-.59l7.78-7.78 2.81-2.81c.8-.78.8-2.07 0-2.86zM5.41 20L4 18.59l7.72-7.72 1.47 1.35L5.41 20z\"/>\n",
              "  </svg>\n",
              "      </button>\n",
              "\n",
              "\n",
              "\n",
              "    <div id=\"df-6ec12908-8609-42c8-9158-d69850c686f7\">\n",
              "      <button class=\"colab-df-quickchart\" onclick=\"quickchart('df-6ec12908-8609-42c8-9158-d69850c686f7')\"\n",
              "              title=\"Suggest charts.\"\n",
              "              style=\"display:none;\">\n",
              "\n",
              "<svg xmlns=\"http://www.w3.org/2000/svg\" height=\"24px\"viewBox=\"0 0 24 24\"\n",
              "     width=\"24px\">\n",
              "    <g>\n",
              "        <path d=\"M19 3H5c-1.1 0-2 .9-2 2v14c0 1.1.9 2 2 2h14c1.1 0 2-.9 2-2V5c0-1.1-.9-2-2-2zM9 17H7v-7h2v7zm4 0h-2V7h2v10zm4 0h-2v-4h2v4z\"/>\n",
              "    </g>\n",
              "</svg>\n",
              "      </button>\n",
              "    </div>\n",
              "\n",
              "<style>\n",
              "  .colab-df-quickchart {\n",
              "    background-color: #E8F0FE;\n",
              "    border: none;\n",
              "    border-radius: 50%;\n",
              "    cursor: pointer;\n",
              "    display: none;\n",
              "    fill: #1967D2;\n",
              "    height: 32px;\n",
              "    padding: 0 0 0 0;\n",
              "    width: 32px;\n",
              "  }\n",
              "\n",
              "  .colab-df-quickchart:hover {\n",
              "    background-color: #E2EBFA;\n",
              "    box-shadow: 0px 1px 2px rgba(60, 64, 67, 0.3), 0px 1px 3px 1px rgba(60, 64, 67, 0.15);\n",
              "    fill: #174EA6;\n",
              "  }\n",
              "\n",
              "  [theme=dark] .colab-df-quickchart {\n",
              "    background-color: #3B4455;\n",
              "    fill: #D2E3FC;\n",
              "  }\n",
              "\n",
              "  [theme=dark] .colab-df-quickchart:hover {\n",
              "    background-color: #434B5C;\n",
              "    box-shadow: 0px 1px 3px 1px rgba(0, 0, 0, 0.15);\n",
              "    filter: drop-shadow(0px 1px 2px rgba(0, 0, 0, 0.3));\n",
              "    fill: #FFFFFF;\n",
              "  }\n",
              "</style>\n",
              "\n",
              "    <script>\n",
              "      async function quickchart(key) {\n",
              "        const containerElement = document.querySelector('#' + key);\n",
              "        const charts = await google.colab.kernel.invokeFunction(\n",
              "            'suggestCharts', [key], {});\n",
              "      }\n",
              "    </script>\n",
              "\n",
              "      <script>\n",
              "\n",
              "function displayQuickchartButton(domScope) {\n",
              "  let quickchartButtonEl =\n",
              "    domScope.querySelector('#df-6ec12908-8609-42c8-9158-d69850c686f7 button.colab-df-quickchart');\n",
              "  quickchartButtonEl.style.display =\n",
              "    google.colab.kernel.accessAllowed ? 'block' : 'none';\n",
              "}\n",
              "\n",
              "        displayQuickchartButton(document);\n",
              "      </script>\n",
              "      <style>\n",
              "    .colab-df-container {\n",
              "      display:flex;\n",
              "      flex-wrap:wrap;\n",
              "      gap: 12px;\n",
              "    }\n",
              "\n",
              "    .colab-df-convert {\n",
              "      background-color: #E8F0FE;\n",
              "      border: none;\n",
              "      border-radius: 50%;\n",
              "      cursor: pointer;\n",
              "      display: none;\n",
              "      fill: #1967D2;\n",
              "      height: 32px;\n",
              "      padding: 0 0 0 0;\n",
              "      width: 32px;\n",
              "    }\n",
              "\n",
              "    .colab-df-convert:hover {\n",
              "      background-color: #E2EBFA;\n",
              "      box-shadow: 0px 1px 2px rgba(60, 64, 67, 0.3), 0px 1px 3px 1px rgba(60, 64, 67, 0.15);\n",
              "      fill: #174EA6;\n",
              "    }\n",
              "\n",
              "    [theme=dark] .colab-df-convert {\n",
              "      background-color: #3B4455;\n",
              "      fill: #D2E3FC;\n",
              "    }\n",
              "\n",
              "    [theme=dark] .colab-df-convert:hover {\n",
              "      background-color: #434B5C;\n",
              "      box-shadow: 0px 1px 3px 1px rgba(0, 0, 0, 0.15);\n",
              "      filter: drop-shadow(0px 1px 2px rgba(0, 0, 0, 0.3));\n",
              "      fill: #FFFFFF;\n",
              "    }\n",
              "  </style>\n",
              "\n",
              "      <script>\n",
              "        const buttonEl =\n",
              "          document.querySelector('#df-2aeb5210-b4d0-4431-b2ab-a9335ea051ec button.colab-df-convert');\n",
              "        buttonEl.style.display =\n",
              "          google.colab.kernel.accessAllowed ? 'block' : 'none';\n",
              "\n",
              "        async function convertToInteractive(key) {\n",
              "          const element = document.querySelector('#df-2aeb5210-b4d0-4431-b2ab-a9335ea051ec');\n",
              "          const dataTable =\n",
              "            await google.colab.kernel.invokeFunction('convertToInteractive',\n",
              "                                                     [key], {});\n",
              "          if (!dataTable) return;\n",
              "\n",
              "          const docLinkHtml = 'Like what you see? Visit the ' +\n",
              "            '<a target=\"_blank\" href=https://colab.research.google.com/notebooks/data_table.ipynb>data table notebook</a>'\n",
              "            + ' to learn more about interactive tables.';\n",
              "          element.innerHTML = '';\n",
              "          dataTable['output_type'] = 'display_data';\n",
              "          await google.colab.output.renderOutput(dataTable, element);\n",
              "          const docLink = document.createElement('div');\n",
              "          docLink.innerHTML = docLinkHtml;\n",
              "          element.appendChild(docLink);\n",
              "        }\n",
              "      </script>\n",
              "    </div>\n",
              "  </div>\n"
            ]
          },
          "metadata": {},
          "execution_count": 2
        }
      ]
    },
    {
      "cell_type": "markdown",
      "source": [
        "**Let's perform some basic EDA on the train.csv**"
      ],
      "metadata": {
        "id": "C2xuPuT8RPyd"
      }
    },
    {
      "cell_type": "code",
      "source": [
        "df_train_csv.info()"
      ],
      "metadata": {
        "colab": {
          "base_uri": "https://localhost:8080/"
        },
        "id": "fAx6_bZTRH0Y",
        "outputId": "2fee4c87-e328-4c78-9c82-90c5182b6129"
      },
      "execution_count": 3,
      "outputs": [
        {
          "output_type": "stream",
          "name": "stdout",
          "text": [
            "<class 'pandas.core.frame.DataFrame'>\n",
            "RangeIndex: 12000 entries, 0 to 11999\n",
            "Data columns (total 3 columns):\n",
            " #   Column      Non-Null Count  Dtype \n",
            "---  ------      --------------  ----- \n",
            " 0   File_ID     12000 non-null  object\n",
            " 1   Is_Mixedup  12000 non-null  object\n",
            " 2   Topic       12000 non-null  object\n",
            "dtypes: object(3)\n",
            "memory usage: 281.4+ KB\n"
          ]
        }
      ]
    },
    {
      "cell_type": "code",
      "source": [
        "df_train_csv.isnull().sum()"
      ],
      "metadata": {
        "colab": {
          "base_uri": "https://localhost:8080/"
        },
        "id": "6VhIGDF4RHxQ",
        "outputId": "1ca00e5b-1c57-4529-8d11-658132999ec7"
      },
      "execution_count": 4,
      "outputs": [
        {
          "output_type": "execute_result",
          "data": {
            "text/plain": [
              "File_ID       0\n",
              "Is_Mixedup    0\n",
              "Topic         0\n",
              "dtype: int64"
            ]
          },
          "metadata": {},
          "execution_count": 4
        }
      ]
    },
    {
      "cell_type": "code",
      "source": [
        "df_train_csv.shape"
      ],
      "metadata": {
        "colab": {
          "base_uri": "https://localhost:8080/"
        },
        "id": "7gCy6QoWRHtr",
        "outputId": "6fffe3b0-5bce-4494-c2d3-cd4d16bce74b"
      },
      "execution_count": 5,
      "outputs": [
        {
          "output_type": "execute_result",
          "data": {
            "text/plain": [
              "(12000, 3)"
            ]
          },
          "metadata": {},
          "execution_count": 5
        }
      ]
    },
    {
      "cell_type": "code",
      "source": [
        "df_train_csv['Is_Mixedup'].unique()"
      ],
      "metadata": {
        "colab": {
          "base_uri": "https://localhost:8080/"
        },
        "id": "sRcdNwx1RHca",
        "outputId": "bbb228c8-bbe1-45a7-fb41-0dedcdcc88f3"
      },
      "execution_count": 6,
      "outputs": [
        {
          "output_type": "execute_result",
          "data": {
            "text/plain": [
              "array(['NO', 'YES'], dtype=object)"
            ]
          },
          "metadata": {},
          "execution_count": 6
        }
      ]
    },
    {
      "cell_type": "code",
      "source": [
        "df_train_csv['Topic'].unique()"
      ],
      "metadata": {
        "colab": {
          "base_uri": "https://localhost:8080/"
        },
        "id": "iP-egL3URdqG",
        "outputId": "ff8656a6-cee4-4339-ac81-fa4cbf5c767e"
      },
      "execution_count": 7,
      "outputs": [
        {
          "output_type": "execute_result",
          "data": {
            "text/plain": [
              "array(['Animal Species', 'Plant Species', 'Not Applicable'], dtype=object)"
            ]
          },
          "metadata": {},
          "execution_count": 7
        }
      ]
    },
    {
      "cell_type": "code",
      "source": [
        "#Removing duplicate values if any and make sure that the FileIDs are unique\n",
        "\n",
        "#First we will be removing all duplicate rows from our data where the values are the same in all columns.\n",
        "#By default, it will keep the first occurrence and remove the rest.\n",
        "df_train_csv.drop_duplicates(inplace=True)\n",
        "print(\"Shape of training data post duplicates removal:\",df_train_csv.shape)\n",
        "\n",
        "#Next, we will be removing duplicates from \"File_ID\" column\n",
        "df_train_csv.drop_duplicates(subset=['File_ID'], inplace=True)\n",
        "print(\"Shape of training data post duplicates removal on 'File_ID':\",df_train_csv.shape)"
      ],
      "metadata": {
        "colab": {
          "base_uri": "https://localhost:8080/"
        },
        "id": "GUBPQMKqRdmW",
        "outputId": "d6e9cbe7-349d-439c-dfde-888ad252cee3"
      },
      "execution_count": 8,
      "outputs": [
        {
          "output_type": "stream",
          "name": "stdout",
          "text": [
            "Shape of training data post duplicates removal: (12000, 3)\n",
            "Shape of training data post duplicates removal on 'File_ID': (12000, 3)\n"
          ]
        }
      ]
    },
    {
      "cell_type": "code",
      "source": [
        "# check target balance\n",
        "df_train_csv['Topic'].value_counts(normalize = True).plot.bar()"
      ],
      "metadata": {
        "colab": {
          "base_uri": "https://localhost:8080/",
          "height": 539
        },
        "id": "FxzLTywldbIm",
        "outputId": "5fbf0f9a-1f4b-409d-88ad-85c5cab5a1ba"
      },
      "execution_count": 21,
      "outputs": [
        {
          "output_type": "execute_result",
          "data": {
            "text/plain": [
              "<Axes: >"
            ]
          },
          "metadata": {},
          "execution_count": 21
        },
        {
          "output_type": "display_data",
          "data": {
            "text/plain": [
              "<Figure size 640x480 with 1 Axes>"
            ],
            "image/png": "[encoded data removed]"
          },
          "metadata": {}
        }
      ]
    },
    {
      "cell_type": "markdown",
      "source": [
        "Thus, from above we understand that this is a supervised multi-class classification problem where we will be finding the topic of the document based on high probabilty word occurence.\n",
        "\n",
        "From the training data we have the content of each File ID and the label informing whether it belongs to animal, plant or mixed type.\n",
        "\n",
        "1.   If the word occurence probability is high for both plant & animal species then, classify it as 'Not Applicable'\n",
        "2.   If the word occurence probability is high for plant species then, classify it as 'Plant Species'\n",
        "3.   If the word occurence probability is high for animal species then, classify it as 'Animal Species'\n",
        "4.   Once, the classification is done, we can provide the 'Is_Mixed' value column based on condition\n",
        "\n"
      ],
      "metadata": {
        "id": "Sk5d8YqfRxj6"
      }
    },
    {
      "cell_type": "markdown",
      "source": [
        "### We will split the training data into train and evaluation data to check how the model performs on some unseen data"
      ],
      "metadata": {
        "id": "r3NBG4-_Sou3"
      }
    },
    {
      "cell_type": "code",
      "source": [
        "from sklearn.model_selection import train_test_split\n",
        "x_train,x_eval=train_test_split(df_train_csv,test_size=0.33,shuffle=True,random_state=123)\n",
        "\n",
        "print(\"Shape of x_train:\",x_train.shape)\n",
        "print(\"Shape of x_eval:\",x_eval.shape)"
      ],
      "metadata": {
        "colab": {
          "base_uri": "https://localhost:8080/"
        },
        "id": "Fhk7Gx96Rdbr",
        "outputId": "a87e29ab-556a-4029-ae84-ebd1246b4940"
      },
      "execution_count": 9,
      "outputs": [
        {
          "output_type": "stream",
          "name": "stdout",
          "text": [
            "Shape of x_train: (8040, 3)\n",
            "Shape of x_eval: (3960, 3)\n"
          ]
        }
      ]
    },
    {
      "cell_type": "code",
      "source": [
        "x_train.head()"
      ],
      "metadata": {
        "colab": {
          "base_uri": "https://localhost:8080/",
          "height": 206
        },
        "id": "oklLrabDTfcF",
        "outputId": "297116d7-5d44-4d9f-ed61-279009d94283"
      },
      "execution_count": 10,
      "outputs": [
        {
          "output_type": "execute_result",
          "data": {
            "text/plain": [
              "       File_ID Is_Mixedup           Topic\n",
              "11417  0x22a37         NO  Animal Species\n",
              "724    0x23e80         NO  Animal Species\n",
              "2735   0x2354e         NO   Plant Species\n",
              "3511   0x23845        YES  Not Applicable\n",
              "11845  0x2198b         NO  Animal Species"
            ],
            "text/html": [
              "\n",
              "\n",
              "  <div id=\"df-5113d2f1-45c8-4d11-9571-98d5429da8b0\">\n",
              "    <div class=\"colab-df-container\">\n",
              "      <div>\n",
              "<style scoped>\n",
              "    .dataframe tbody tr th:only-of-type {\n",
              "        vertical-align: middle;\n",
              "    }\n",
              "\n",
              "    .dataframe tbody tr th {\n",
              "        vertical-align: top;\n",
              "    }\n",
              "\n",
              "    .dataframe thead th {\n",
              "        text-align: right;\n",
              "    }\n",
              "</style>\n",
              "<table border=\"1\" class=\"dataframe\">\n",
              "  <thead>\n",
              "    <tr style=\"text-align: right;\">\n",
              "      <th></th>\n",
              "      <th>File_ID</th>\n",
              "      <th>Is_Mixedup</th>\n",
              "      <th>Topic</th>\n",
              "    </tr>\n",
              "  </thead>\n",
              "  <tbody>\n",
              "    <tr>\n",
              "      <th>11417</th>\n",
              "      <td>0x22a37</td>\n",
              "      <td>NO</td>\n",
              "      <td>Animal Species</td>\n",
              "    </tr>\n",
              "    <tr>\n",
              "      <th>724</th>\n",
              "      <td>0x23e80</td>\n",
              "      <td>NO</td>\n",
              "      <td>Animal Species</td>\n",
              "    </tr>\n",
              "    <tr>\n",
              "      <th>2735</th>\n",
              "      <td>0x2354e</td>\n",
              "      <td>NO</td>\n",
              "      <td>Plant Species</td>\n",
              "    </tr>\n",
              "    <tr>\n",
              "      <th>3511</th>\n",
              "      <td>0x23845</td>\n",
              "      <td>YES</td>\n",
              "      <td>Not Applicable</td>\n",
              "    </tr>\n",
              "    <tr>\n",
              "      <th>11845</th>\n",
              "      <td>0x2198b</td>\n",
              "      <td>NO</td>\n",
              "      <td>Animal Species</td>\n",
              "    </tr>\n",
              "  </tbody>\n",
              "</table>\n",
              "</div>\n",
              "      <button class=\"colab-df-convert\" onclick=\"convertToInteractive('df-5113d2f1-45c8-4d11-9571-98d5429da8b0')\"\n",
              "              title=\"Convert this dataframe to an interactive table.\"\n",
              "              style=\"display:none;\">\n",
              "\n",
              "  <svg xmlns=\"http://www.w3.org/2000/svg\" height=\"24px\"viewBox=\"0 0 24 24\"\n",
              "       width=\"24px\">\n",
              "    <path d=\"M0 0h24v24H0V0z\" fill=\"none\"/>\n",
              "    <path d=\"M18.56 5.44l.94 2.06.94-2.06 2.06-.94-2.06-.94-.94-2.06-.94 2.06-2.06.94zm-11 1L8.5 8.5l.94-2.06 2.06-.94-2.06-.94L8.5 2.5l-.94 2.06-2.06.94zm10 10l.94 2.06.94-2.06 2.06-.94-2.06-.94-.94-2.06-.94 2.06-2.06.94z\"/><path d=\"M17.41 7.96l-1.37-1.37c-.4-.4-.92-.59-1.43-.59-.52 0-1.04.2-1.43.59L10.3 9.45l-7.72 7.72c-.78.78-.78 2.05 0 2.83L4 21.41c.39.39.9.59 1.41.59.51 0 1.02-.2 1.41-.59l7.78-7.78 2.81-2.81c.8-.78.8-2.07 0-2.86zM5.41 20L4 18.59l7.72-7.72 1.47 1.35L5.41 20z\"/>\n",
              "  </svg>\n",
              "      </button>\n",
              "\n",
              "\n",
              "\n",
              "    <div id=\"df-0c8f7131-f706-48c4-8d53-25a1e4c50098\">\n",
              "      <button class=\"colab-df-quickchart\" onclick=\"quickchart('df-0c8f7131-f706-48c4-8d53-25a1e4c50098')\"\n",
              "              title=\"Suggest charts.\"\n",
              "              style=\"display:none;\">\n",
              "\n",
              "<svg xmlns=\"http://www.w3.org/2000/svg\" height=\"24px\"viewBox=\"0 0 24 24\"\n",
              "     width=\"24px\">\n",
              "    <g>\n",
              "        <path d=\"M19 3H5c-1.1 0-2 .9-2 2v14c0 1.1.9 2 2 2h14c1.1 0 2-.9 2-2V5c0-1.1-.9-2-2-2zM9 17H7v-7h2v7zm4 0h-2V7h2v10zm4 0h-2v-4h2v4z\"/>\n",
              "    </g>\n",
              "</svg>\n",
              "      </button>\n",
              "    </div>\n",
              "\n",
              "<style>\n",
              "  .colab-df-quickchart {\n",
              "    background-color: #E8F0FE;\n",
              "    border: none;\n",
              "    border-radius: 50%;\n",
              "    cursor: pointer;\n",
              "    display: none;\n",
              "    fill: #1967D2;\n",
              "    height: 32px;\n",
              "    padding: 0 0 0 0;\n",
              "    width: 32px;\n",
              "  }\n",
              "\n",
              "  .colab-df-quickchart:hover {\n",
              "    background-color: #E2EBFA;\n",
              "    box-shadow: 0px 1px 2px rgba(60, 64, 67, 0.3), 0px 1px 3px 1px rgba(60, 64, 67, 0.15);\n",
              "    fill: #174EA6;\n",
              "  }\n",
              "\n",
              "  [theme=dark] .colab-df-quickchart {\n",
              "    background-color: #3B4455;\n",
              "    fill: #D2E3FC;\n",
              "  }\n",
              "\n",
              "  [theme=dark] .colab-df-quickchart:hover {\n",
              "    background-color: #434B5C;\n",
              "    box-shadow: 0px 1px 3px 1px rgba(0, 0, 0, 0.15);\n",
              "    filter: drop-shadow(0px 1px 2px rgba(0, 0, 0, 0.3));\n",
              "    fill: #FFFFFF;\n",
              "  }\n",
              "</style>\n",
              "\n",
              "    <script>\n",
              "      async function quickchart(key) {\n",
              "        const containerElement = document.querySelector('#' + key);\n",
              "        const charts = await google.colab.kernel.invokeFunction(\n",
              "            'suggestCharts', [key], {});\n",
              "      }\n",
              "    </script>\n",
              "\n",
              "      <script>\n",
              "\n",
              "function displayQuickchartButton(domScope) {\n",
              "  let quickchartButtonEl =\n",
              "    domScope.querySelector('#df-0c8f7131-f706-48c4-8d53-25a1e4c50098 button.colab-df-quickchart');\n",
              "  quickchartButtonEl.style.display =\n",
              "    google.colab.kernel.accessAllowed ? 'block' : 'none';\n",
              "}\n",
              "\n",
              "        displayQuickchartButton(document);\n",
              "      </script>\n",
              "      <style>\n",
              "    .colab-df-container {\n",
              "      display:flex;\n",
              "      flex-wrap:wrap;\n",
              "      gap: 12px;\n",
              "    }\n",
              "\n",
              "    .colab-df-convert {\n",
              "      background-color: #E8F0FE;\n",
              "      border: none;\n",
              "      border-radius: 50%;\n",
              "      cursor: pointer;\n",
              "      display: none;\n",
              "      fill: #1967D2;\n",
              "      height: 32px;\n",
              "      padding: 0 0 0 0;\n",
              "      width: 32px;\n",
              "    }\n",
              "\n",
              "    .colab-df-convert:hover {\n",
              "      background-color: #E2EBFA;\n",
              "      box-shadow: 0px 1px 2px rgba(60, 64, 67, 0.3), 0px 1px 3px 1px rgba(60, 64, 67, 0.15);\n",
              "      fill: #174EA6;\n",
              "    }\n",
              "\n",
              "    [theme=dark] .colab-df-convert {\n",
              "      background-color: #3B4455;\n",
              "      fill: #D2E3FC;\n",
              "    }\n",
              "\n",
              "    [theme=dark] .colab-df-convert:hover {\n",
              "      background-color: #434B5C;\n",
              "      box-shadow: 0px 1px 3px 1px rgba(0, 0, 0, 0.15);\n",
              "      filter: drop-shadow(0px 1px 2px rgba(0, 0, 0, 0.3));\n",
              "      fill: #FFFFFF;\n",
              "    }\n",
              "  </style>\n",
              "\n",
              "      <script>\n",
              "        const buttonEl =\n",
              "          document.querySelector('#df-5113d2f1-45c8-4d11-9571-98d5429da8b0 button.colab-df-convert');\n",
              "        buttonEl.style.display =\n",
              "          google.colab.kernel.accessAllowed ? 'block' : 'none';\n",
              "\n",
              "        async function convertToInteractive(key) {\n",
              "          const element = document.querySelector('#df-5113d2f1-45c8-4d11-9571-98d5429da8b0');\n",
              "          const dataTable =\n",
              "            await google.colab.kernel.invokeFunction('convertToInteractive',\n",
              "                                                     [key], {});\n",
              "          if (!dataTable) return;\n",
              "\n",
              "          const docLinkHtml = 'Like what you see? Visit the ' +\n",
              "            '<a target=\"_blank\" href=https://colab.research.google.com/notebooks/data_table.ipynb>data table notebook</a>'\n",
              "            + ' to learn more about interactive tables.';\n",
              "          element.innerHTML = '';\n",
              "          dataTable['output_type'] = 'display_data';\n",
              "          await google.colab.output.renderOutput(dataTable, element);\n",
              "          const docLink = document.createElement('div');\n",
              "          docLink.innerHTML = docLinkHtml;\n",
              "          element.appendChild(docLink);\n",
              "        }\n",
              "      </script>\n",
              "    </div>\n",
              "  </div>\n"
            ]
          },
          "metadata": {},
          "execution_count": 10
        }
      ]
    },
    {
      "cell_type": "code",
      "source": [
        "x_eval.head()"
      ],
      "metadata": {
        "colab": {
          "base_uri": "https://localhost:8080/",
          "height": 206
        },
        "id": "3niS3uZyTjWd",
        "outputId": "0b0b1363-447f-437e-fa4a-065689fc488c"
      },
      "execution_count": 11,
      "outputs": [
        {
          "output_type": "execute_result",
          "data": {
            "text/plain": [
              "       File_ID Is_Mixedup           Topic\n",
              "3744   0x214f1         NO  Animal Species\n",
              "10969  0x220ed         NO  Animal Species\n",
              "10     0x210cd         NO  Animal Species\n",
              "1674   0x212b4         NO  Animal Species\n",
              "6398   0x20cb0        YES  Not Applicable"
            ],
            "text/html": [
              "\n",
              "\n",
              "  <div id=\"df-968a5ba4-11cf-444d-a8ad-b0bbcaf1f2ed\">\n",
              "    <div class=\"colab-df-container\">\n",
              "      <div>\n",
              "<style scoped>\n",
              "    .dataframe tbody tr th:only-of-type {\n",
              "        vertical-align: middle;\n",
              "    }\n",
              "\n",
              "    .dataframe tbody tr th {\n",
              "        vertical-align: top;\n",
              "    }\n",
              "\n",
              "    .dataframe thead th {\n",
              "        text-align: right;\n",
              "    }\n",
              "</style>\n",
              "<table border=\"1\" class=\"dataframe\">\n",
              "  <thead>\n",
              "    <tr style=\"text-align: right;\">\n",
              "      <th></th>\n",
              "      <th>File_ID</th>\n",
              "      <th>Is_Mixedup</th>\n",
              "      <th>Topic</th>\n",
              "    </tr>\n",
              "  </thead>\n",
              "  <tbody>\n",
              "    <tr>\n",
              "      <th>3744</th>\n",
              "      <td>0x214f1</td>\n",
              "      <td>NO</td>\n",
              "      <td>Animal Species</td>\n",
              "    </tr>\n",
              "    <tr>\n",
              "      <th>10969</th>\n",
              "      <td>0x220ed</td>\n",
              "      <td>NO</td>\n",
              "      <td>Animal Species</td>\n",
              "    </tr>\n",
              "    <tr>\n",
              "      <th>10</th>\n",
              "      <td>0x210cd</td>\n",
              "      <td>NO</td>\n",
              "      <td>Animal Species</td>\n",
              "    </tr>\n",
              "    <tr>\n",
              "      <th>1674</th>\n",
              "      <td>0x212b4</td>\n",
              "      <td>NO</td>\n",
              "      <td>Animal Species</td>\n",
              "    </tr>\n",
              "    <tr>\n",
              "      <th>6398</th>\n",
              "      <td>0x20cb0</td>\n",
              "      <td>YES</td>\n",
              "      <td>Not Applicable</td>\n",
              "    </tr>\n",
              "  </tbody>\n",
              "</table>\n",
              "</div>\n",
              "      <button class=\"colab-df-convert\" onclick=\"convertToInteractive('df-968a5ba4-11cf-444d-a8ad-b0bbcaf1f2ed')\"\n",
              "              title=\"Convert this dataframe to an interactive table.\"\n",
              "              style=\"display:none;\">\n",
              "\n",
              "  <svg xmlns=\"http://www.w3.org/2000/svg\" height=\"24px\"viewBox=\"0 0 24 24\"\n",
              "       width=\"24px\">\n",
              "    <path d=\"M0 0h24v24H0V0z\" fill=\"none\"/>\n",
              "    <path d=\"M18.56 5.44l.94 2.06.94-2.06 2.06-.94-2.06-.94-.94-2.06-.94 2.06-2.06.94zm-11 1L8.5 8.5l.94-2.06 2.06-.94-2.06-.94L8.5 2.5l-.94 2.06-2.06.94zm10 10l.94 2.06.94-2.06 2.06-.94-2.06-.94-.94-2.06-.94 2.06-2.06.94z\"/><path d=\"M17.41 7.96l-1.37-1.37c-.4-.4-.92-.59-1.43-.59-.52 0-1.04.2-1.43.59L10.3 9.45l-7.72 7.72c-.78.78-.78 2.05 0 2.83L4 21.41c.39.39.9.59 1.41.59.51 0 1.02-.2 1.41-.59l7.78-7.78 2.81-2.81c.8-.78.8-2.07 0-2.86zM5.41 20L4 18.59l7.72-7.72 1.47 1.35L5.41 20z\"/>\n",
              "  </svg>\n",
              "      </button>\n",
              "\n",
              "\n",
              "\n",
              "    <div id=\"df-35d4cf7b-1e51-4ec9-8623-1dd68f91de33\">\n",
              "      <button class=\"colab-df-quickchart\" onclick=\"quickchart('df-35d4cf7b-1e51-4ec9-8623-1dd68f91de33')\"\n",
              "              title=\"Suggest charts.\"\n",
              "              style=\"display:none;\">\n",
              "\n",
              "<svg xmlns=\"http://www.w3.org/2000/svg\" height=\"24px\"viewBox=\"0 0 24 24\"\n",
              "     width=\"24px\">\n",
              "    <g>\n",
              "        <path d=\"M19 3H5c-1.1 0-2 .9-2 2v14c0 1.1.9 2 2 2h14c1.1 0 2-.9 2-2V5c0-1.1-.9-2-2-2zM9 17H7v-7h2v7zm4 0h-2V7h2v10zm4 0h-2v-4h2v4z\"/>\n",
              "    </g>\n",
              "</svg>\n",
              "      </button>\n",
              "    </div>\n",
              "\n",
              "<style>\n",
              "  .colab-df-quickchart {\n",
              "    background-color: #E8F0FE;\n",
              "    border: none;\n",
              "    border-radius: 50%;\n",
              "    cursor: pointer;\n",
              "    display: none;\n",
              "    fill: #1967D2;\n",
              "    height: 32px;\n",
              "    padding: 0 0 0 0;\n",
              "    width: 32px;\n",
              "  }\n",
              "\n",
              "  .colab-df-quickchart:hover {\n",
              "    background-color: #E2EBFA;\n",
              "    box-shadow: 0px 1px 2px rgba(60, 64, 67, 0.3), 0px 1px 3px 1px rgba(60, 64, 67, 0.15);\n",
              "    fill: #174EA6;\n",
              "  }\n",
              "\n",
              "  [theme=dark] .colab-df-quickchart {\n",
              "    background-color: #3B4455;\n",
              "    fill: #D2E3FC;\n",
              "  }\n",
              "\n",
              "  [theme=dark] .colab-df-quickchart:hover {\n",
              "    background-color: #434B5C;\n",
              "    box-shadow: 0px 1px 3px 1px rgba(0, 0, 0, 0.15);\n",
              "    filter: drop-shadow(0px 1px 2px rgba(0, 0, 0, 0.3));\n",
              "    fill: #FFFFFF;\n",
              "  }\n",
              "</style>\n",
              "\n",
              "    <script>\n",
              "      async function quickchart(key) {\n",
              "        const containerElement = document.querySelector('#' + key);\n",
              "        const charts = await google.colab.kernel.invokeFunction(\n",
              "            'suggestCharts', [key], {});\n",
              "      }\n",
              "    </script>\n",
              "\n",
              "      <script>\n",
              "\n",
              "function displayQuickchartButton(domScope) {\n",
              "  let quickchartButtonEl =\n",
              "    domScope.querySelector('#df-35d4cf7b-1e51-4ec9-8623-1dd68f91de33 button.colab-df-quickchart');\n",
              "  quickchartButtonEl.style.display =\n",
              "    google.colab.kernel.accessAllowed ? 'block' : 'none';\n",
              "}\n",
              "\n",
              "        displayQuickchartButton(document);\n",
              "      </script>\n",
              "      <style>\n",
              "    .colab-df-container {\n",
              "      display:flex;\n",
              "      flex-wrap:wrap;\n",
              "      gap: 12px;\n",
              "    }\n",
              "\n",
              "    .colab-df-convert {\n",
              "      background-color: #E8F0FE;\n",
              "      border: none;\n",
              "      border-radius: 50%;\n",
              "      cursor: pointer;\n",
              "      display: none;\n",
              "      fill: #1967D2;\n",
              "      height: 32px;\n",
              "      padding: 0 0 0 0;\n",
              "      width: 32px;\n",
              "    }\n",
              "\n",
              "    .colab-df-convert:hover {\n",
              "      background-color: #E2EBFA;\n",
              "      box-shadow: 0px 1px 2px rgba(60, 64, 67, 0.3), 0px 1px 3px 1px rgba(60, 64, 67, 0.15);\n",
              "      fill: #174EA6;\n",
              "    }\n",
              "\n",
              "    [theme=dark] .colab-df-convert {\n",
              "      background-color: #3B4455;\n",
              "      fill: #D2E3FC;\n",
              "    }\n",
              "\n",
              "    [theme=dark] .colab-df-convert:hover {\n",
              "      background-color: #434B5C;\n",
              "      box-shadow: 0px 1px 3px 1px rgba(0, 0, 0, 0.15);\n",
              "      filter: drop-shadow(0px 1px 2px rgba(0, 0, 0, 0.3));\n",
              "      fill: #FFFFFF;\n",
              "    }\n",
              "  </style>\n",
              "\n",
              "      <script>\n",
              "        const buttonEl =\n",
              "          document.querySelector('#df-968a5ba4-11cf-444d-a8ad-b0bbcaf1f2ed button.colab-df-convert');\n",
              "        buttonEl.style.display =\n",
              "          google.colab.kernel.accessAllowed ? 'block' : 'none';\n",
              "\n",
              "        async function convertToInteractive(key) {\n",
              "          const element = document.querySelector('#df-968a5ba4-11cf-444d-a8ad-b0bbcaf1f2ed');\n",
              "          const dataTable =\n",
              "            await google.colab.kernel.invokeFunction('convertToInteractive',\n",
              "                                                     [key], {});\n",
              "          if (!dataTable) return;\n",
              "\n",
              "          const docLinkHtml = 'Like what you see? Visit the ' +\n",
              "            '<a target=\"_blank\" href=https://colab.research.google.com/notebooks/data_table.ipynb>data table notebook</a>'\n",
              "            + ' to learn more about interactive tables.';\n",
              "          element.innerHTML = '';\n",
              "          dataTable['output_type'] = 'display_data';\n",
              "          await google.colab.output.renderOutput(dataTable, element);\n",
              "          const docLink = document.createElement('div');\n",
              "          docLink.innerHTML = docLinkHtml;\n",
              "          element.appendChild(docLink);\n",
              "        }\n",
              "      </script>\n",
              "    </div>\n",
              "  </div>\n"
            ]
          },
          "metadata": {},
          "execution_count": 11
        }
      ]
    },
    {
      "cell_type": "code",
      "source": [
        "print(\"The shape of the x_train data before restting index : \", x_train.shape)\n",
        "print(\"The shape of the x_eval data before restting index : \", x_eval.shape)"
      ],
      "metadata": {
        "colab": {
          "base_uri": "https://localhost:8080/"
        },
        "id": "a4Dkfo-FVKyV",
        "outputId": "e919b5d9-07e8-4354-a81e-191abb9e34ce"
      },
      "execution_count": 12,
      "outputs": [
        {
          "output_type": "stream",
          "name": "stdout",
          "text": [
            "The shape of the x_train data before restting index :  (8040, 3)\n",
            "The shape of the x_eval data before restting index :  (3960, 3)\n"
          ]
        }
      ]
    },
    {
      "cell_type": "code",
      "source": [
        "#We will reset the index of both x_train and x_eval data to start from 0 to n-1.\n",
        "#This is done to satisfy the indexing conditions required while executing global functions which we will see in the upcoming code\n",
        "\n",
        "x_train.reset_index(inplace=True,drop=True)\n",
        "x_eval.reset_index(inplace=True,drop=True)\n",
        "print(\"The shape of the x_train data after restting index : \", x_train.shape)\n",
        "print(\"The shape of the x_eval data after restting index : \", x_eval.shape)"
      ],
      "metadata": {
        "colab": {
          "base_uri": "https://localhost:8080/"
        },
        "id": "_JMjPs6eV7nl",
        "outputId": "92af2dc0-0762-4eb0-c093-fe55ccb71232"
      },
      "execution_count": 13,
      "outputs": [
        {
          "output_type": "stream",
          "name": "stdout",
          "text": [
            "The shape of the x_train data after restting index :  (8040, 3)\n",
            "The shape of the x_eval data after restting index :  (3960, 3)\n"
          ]
        }
      ]
    },
    {
      "cell_type": "code",
      "source": [
        "#Let's see the difference post resetting index, we will see\n",
        "#index starting from 0 to n-1 for both the train & eval dataset, which was not the case right after we split the data\n",
        "x_train.head(3)"
      ],
      "metadata": {
        "colab": {
          "base_uri": "https://localhost:8080/",
          "height": 143
        },
        "id": "FdjDETrsWpDt",
        "outputId": "1ae0a9a0-1aee-4145-e8ff-ad4d52b5d882"
      },
      "execution_count": 14,
      "outputs": [
        {
          "output_type": "execute_result",
          "data": {
            "text/plain": [
              "   File_ID Is_Mixedup           Topic\n",
              "0  0x22a37         NO  Animal Species\n",
              "1  0x23e80         NO  Animal Species\n",
              "2  0x2354e         NO   Plant Species"
            ],
            "text/html": [
              "\n",
              "\n",
              "  <div id=\"df-c3557ee5-e076-49c9-8e23-f3c6dfe232d0\">\n",
              "    <div class=\"colab-df-container\">\n",
              "      <div>\n",
              "<style scoped>\n",
              "    .dataframe tbody tr th:only-of-type {\n",
              "        vertical-align: middle;\n",
              "    }\n",
              "\n",
              "    .dataframe tbody tr th {\n",
              "        vertical-align: top;\n",
              "    }\n",
              "\n",
              "    .dataframe thead th {\n",
              "        text-align: right;\n",
              "    }\n",
              "</style>\n",
              "<table border=\"1\" class=\"dataframe\">\n",
              "  <thead>\n",
              "    <tr style=\"text-align: right;\">\n",
              "      <th></th>\n",
              "      <th>File_ID</th>\n",
              "      <th>Is_Mixedup</th>\n",
              "      <th>Topic</th>\n",
              "    </tr>\n",
              "  </thead>\n",
              "  <tbody>\n",
              "    <tr>\n",
              "      <th>0</th>\n",
              "      <td>0x22a37</td>\n",
              "      <td>NO</td>\n",
              "      <td>Animal Species</td>\n",
              "    </tr>\n",
              "    <tr>\n",
              "      <th>1</th>\n",
              "      <td>0x23e80</td>\n",
              "      <td>NO</td>\n",
              "      <td>Animal Species</td>\n",
              "    </tr>\n",
              "    <tr>\n",
              "      <th>2</th>\n",
              "      <td>0x2354e</td>\n",
              "      <td>NO</td>\n",
              "      <td>Plant Species</td>\n",
              "    </tr>\n",
              "  </tbody>\n",
              "</table>\n",
              "</div>\n",
              "      <button class=\"colab-df-convert\" onclick=\"convertToInteractive('df-c3557ee5-e076-49c9-8e23-f3c6dfe232d0')\"\n",
              "              title=\"Convert this dataframe to an interactive table.\"\n",
              "              style=\"display:none;\">\n",
              "\n",
              "  <svg xmlns=\"http://www.w3.org/2000/svg\" height=\"24px\"viewBox=\"0 0 24 24\"\n",
              "       width=\"24px\">\n",
              "    <path d=\"M0 0h24v24H0V0z\" fill=\"none\"/>\n",
              "    <path d=\"M18.56 5.44l.94 2.06.94-2.06 2.06-.94-2.06-.94-.94-2.06-.94 2.06-2.06.94zm-11 1L8.5 8.5l.94-2.06 2.06-.94-2.06-.94L8.5 2.5l-.94 2.06-2.06.94zm10 10l.94 2.06.94-2.06 2.06-.94-2.06-.94-.94-2.06-.94 2.06-2.06.94z\"/><path d=\"M17.41 7.96l-1.37-1.37c-.4-.4-.92-.59-1.43-.59-.52 0-1.04.2-1.43.59L10.3 9.45l-7.72 7.72c-.78.78-.78 2.05 0 2.83L4 21.41c.39.39.9.59 1.41.59.51 0 1.02-.2 1.41-.59l7.78-7.78 2.81-2.81c.8-.78.8-2.07 0-2.86zM5.41 20L4 18.59l7.72-7.72 1.47 1.35L5.41 20z\"/>\n",
              "  </svg>\n",
              "      </button>\n",
              "\n",
              "\n",
              "\n",
              "    <div id=\"df-222764e4-1225-4f34-b99d-b3340102b83a\">\n",
              "      <button class=\"colab-df-quickchart\" onclick=\"quickchart('df-222764e4-1225-4f34-b99d-b3340102b83a')\"\n",
              "              title=\"Suggest charts.\"\n",
              "              style=\"display:none;\">\n",
              "\n",
              "<svg xmlns=\"http://www.w3.org/2000/svg\" height=\"24px\"viewBox=\"0 0 24 24\"\n",
              "     width=\"24px\">\n",
              "    <g>\n",
              "        <path d=\"M19 3H5c-1.1 0-2 .9-2 2v14c0 1.1.9 2 2 2h14c1.1 0 2-.9 2-2V5c0-1.1-.9-2-2-2zM9 17H7v-7h2v7zm4 0h-2V7h2v10zm4 0h-2v-4h2v4z\"/>\n",
              "    </g>\n",
              "</svg>\n",
              "      </button>\n",
              "    </div>\n",
              "\n",
              "<style>\n",
              "  .colab-df-quickchart {\n",
              "    background-color: #E8F0FE;\n",
              "    border: none;\n",
              "    border-radius: 50%;\n",
              "    cursor: pointer;\n",
              "    display: none;\n",
              "    fill: #1967D2;\n",
              "    height: 32px;\n",
              "    padding: 0 0 0 0;\n",
              "    width: 32px;\n",
              "  }\n",
              "\n",
              "  .colab-df-quickchart:hover {\n",
              "    background-color: #E2EBFA;\n",
              "    box-shadow: 0px 1px 2px rgba(60, 64, 67, 0.3), 0px 1px 3px 1px rgba(60, 64, 67, 0.15);\n",
              "    fill: #174EA6;\n",
              "  }\n",
              "\n",
              "  [theme=dark] .colab-df-quickchart {\n",
              "    background-color: #3B4455;\n",
              "    fill: #D2E3FC;\n",
              "  }\n",
              "\n",
              "  [theme=dark] .colab-df-quickchart:hover {\n",
              "    background-color: #434B5C;\n",
              "    box-shadow: 0px 1px 3px 1px rgba(0, 0, 0, 0.15);\n",
              "    filter: drop-shadow(0px 1px 2px rgba(0, 0, 0, 0.3));\n",
              "    fill: #FFFFFF;\n",
              "  }\n",
              "</style>\n",
              "\n",
              "    <script>\n",
              "      async function quickchart(key) {\n",
              "        const containerElement = document.querySelector('#' + key);\n",
              "        const charts = await google.colab.kernel.invokeFunction(\n",
              "            'suggestCharts', [key], {});\n",
              "      }\n",
              "    </script>\n",
              "\n",
              "      <script>\n",
              "\n",
              "function displayQuickchartButton(domScope) {\n",
              "  let quickchartButtonEl =\n",
              "    domScope.querySelector('#df-222764e4-1225-4f34-b99d-b3340102b83a button.colab-df-quickchart');\n",
              "  quickchartButtonEl.style.display =\n",
              "    google.colab.kernel.accessAllowed ? 'block' : 'none';\n",
              "}\n",
              "\n",
              "        displayQuickchartButton(document);\n",
              "      </script>\n",
              "      <style>\n",
              "    .colab-df-container {\n",
              "      display:flex;\n",
              "      flex-wrap:wrap;\n",
              "      gap: 12px;\n",
              "    }\n",
              "\n",
              "    .colab-df-convert {\n",
              "      background-color: #E8F0FE;\n",
              "      border: none;\n",
              "      border-radius: 50%;\n",
              "      cursor: pointer;\n",
              "      display: none;\n",
              "      fill: #1967D2;\n",
              "      height: 32px;\n",
              "      padding: 0 0 0 0;\n",
              "      width: 32px;\n",
              "    }\n",
              "\n",
              "    .colab-df-convert:hover {\n",
              "      background-color: #E2EBFA;\n",
              "      box-shadow: 0px 1px 2px rgba(60, 64, 67, 0.3), 0px 1px 3px 1px rgba(60, 64, 67, 0.15);\n",
              "      fill: #174EA6;\n",
              "    }\n",
              "\n",
              "    [theme=dark] .colab-df-convert {\n",
              "      background-color: #3B4455;\n",
              "      fill: #D2E3FC;\n",
              "    }\n",
              "\n",
              "    [theme=dark] .colab-df-convert:hover {\n",
              "      background-color: #434B5C;\n",
              "      box-shadow: 0px 1px 3px 1px rgba(0, 0, 0, 0.15);\n",
              "      filter: drop-shadow(0px 1px 2px rgba(0, 0, 0, 0.3));\n",
              "      fill: #FFFFFF;\n",
              "    }\n",
              "  </style>\n",
              "\n",
              "      <script>\n",
              "        const buttonEl =\n",
              "          document.querySelector('#df-c3557ee5-e076-49c9-8e23-f3c6dfe232d0 button.colab-df-convert');\n",
              "        buttonEl.style.display =\n",
              "          google.colab.kernel.accessAllowed ? 'block' : 'none';\n",
              "\n",
              "        async function convertToInteractive(key) {\n",
              "          const element = document.querySelector('#df-c3557ee5-e076-49c9-8e23-f3c6dfe232d0');\n",
              "          const dataTable =\n",
              "            await google.colab.kernel.invokeFunction('convertToInteractive',\n",
              "                                                     [key], {});\n",
              "          if (!dataTable) return;\n",
              "\n",
              "          const docLinkHtml = 'Like what you see? Visit the ' +\n",
              "            '<a target=\"_blank\" href=https://colab.research.google.com/notebooks/data_table.ipynb>data table notebook</a>'\n",
              "            + ' to learn more about interactive tables.';\n",
              "          element.innerHTML = '';\n",
              "          dataTable['output_type'] = 'display_data';\n",
              "          await google.colab.output.renderOutput(dataTable, element);\n",
              "          const docLink = document.createElement('div');\n",
              "          docLink.innerHTML = docLinkHtml;\n",
              "          element.appendChild(docLink);\n",
              "        }\n",
              "      </script>\n",
              "    </div>\n",
              "  </div>\n"
            ]
          },
          "metadata": {},
          "execution_count": 14
        }
      ]
    },
    {
      "cell_type": "code",
      "source": [
        "x_eval.head(3)"
      ],
      "metadata": {
        "colab": {
          "base_uri": "https://localhost:8080/",
          "height": 143
        },
        "id": "9Xo3f0R4W7On",
        "outputId": "41950cbe-a389-4244-a876-a7df4046b640"
      },
      "execution_count": 15,
      "outputs": [
        {
          "output_type": "execute_result",
          "data": {
            "text/plain": [
              "   File_ID Is_Mixedup           Topic\n",
              "0  0x214f1         NO  Animal Species\n",
              "1  0x220ed         NO  Animal Species\n",
              "2  0x210cd         NO  Animal Species"
            ],
            "text/html": [
              "\n",
              "\n",
              "  <div id=\"df-cf41f5c9-1a1d-40b1-9d4f-248186d7cf68\">\n",
              "    <div class=\"colab-df-container\">\n",
              "      <div>\n",
              "<style scoped>\n",
              "    .dataframe tbody tr th:only-of-type {\n",
              "        vertical-align: middle;\n",
              "    }\n",
              "\n",
              "    .dataframe tbody tr th {\n",
              "        vertical-align: top;\n",
              "    }\n",
              "\n",
              "    .dataframe thead th {\n",
              "        text-align: right;\n",
              "    }\n",
              "</style>\n",
              "<table border=\"1\" class=\"dataframe\">\n",
              "  <thead>\n",
              "    <tr style=\"text-align: right;\">\n",
              "      <th></th>\n",
              "      <th>File_ID</th>\n",
              "      <th>Is_Mixedup</th>\n",
              "      <th>Topic</th>\n",
              "    </tr>\n",
              "  </thead>\n",
              "  <tbody>\n",
              "    <tr>\n",
              "      <th>0</th>\n",
              "      <td>0x214f1</td>\n",
              "      <td>NO</td>\n",
              "      <td>Animal Species</td>\n",
              "    </tr>\n",
              "    <tr>\n",
              "      <th>1</th>\n",
              "      <td>0x220ed</td>\n",
              "      <td>NO</td>\n",
              "      <td>Animal Species</td>\n",
              "    </tr>\n",
              "    <tr>\n",
              "      <th>2</th>\n",
              "      <td>0x210cd</td>\n",
              "      <td>NO</td>\n",
              "      <td>Animal Species</td>\n",
              "    </tr>\n",
              "  </tbody>\n",
              "</table>\n",
              "</div>\n",
              "      <button class=\"colab-df-convert\" onclick=\"convertToInteractive('df-cf41f5c9-1a1d-40b1-9d4f-248186d7cf68')\"\n",
              "              title=\"Convert this dataframe to an interactive table.\"\n",
              "              style=\"display:none;\">\n",
              "\n",
              "  <svg xmlns=\"http://www.w3.org/2000/svg\" height=\"24px\"viewBox=\"0 0 24 24\"\n",
              "       width=\"24px\">\n",
              "    <path d=\"M0 0h24v24H0V0z\" fill=\"none\"/>\n",
              "    <path d=\"M18.56 5.44l.94 2.06.94-2.06 2.06-.94-2.06-.94-.94-2.06-.94 2.06-2.06.94zm-11 1L8.5 8.5l.94-2.06 2.06-.94-2.06-.94L8.5 2.5l-.94 2.06-2.06.94zm10 10l.94 2.06.94-2.06 2.06-.94-2.06-.94-.94-2.06-.94 2.06-2.06.94z\"/><path d=\"M17.41 7.96l-1.37-1.37c-.4-.4-.92-.59-1.43-.59-.52 0-1.04.2-1.43.59L10.3 9.45l-7.72 7.72c-.78.78-.78 2.05 0 2.83L4 21.41c.39.39.9.59 1.41.59.51 0 1.02-.2 1.41-.59l7.78-7.78 2.81-2.81c.8-.78.8-2.07 0-2.86zM5.41 20L4 18.59l7.72-7.72 1.47 1.35L5.41 20z\"/>\n",
              "  </svg>\n",
              "      </button>\n",
              "\n",
              "\n",
              "\n",
              "    <div id=\"df-6fda9ac3-29e9-442d-9e43-309e9cecd8b5\">\n",
              "      <button class=\"colab-df-quickchart\" onclick=\"quickchart('df-6fda9ac3-29e9-442d-9e43-309e9cecd8b5')\"\n",
              "              title=\"Suggest charts.\"\n",
              "              style=\"display:none;\">\n",
              "\n",
              "<svg xmlns=\"http://www.w3.org/2000/svg\" height=\"24px\"viewBox=\"0 0 24 24\"\n",
              "     width=\"24px\">\n",
              "    <g>\n",
              "        <path d=\"M19 3H5c-1.1 0-2 .9-2 2v14c0 1.1.9 2 2 2h14c1.1 0 2-.9 2-2V5c0-1.1-.9-2-2-2zM9 17H7v-7h2v7zm4 0h-2V7h2v10zm4 0h-2v-4h2v4z\"/>\n",
              "    </g>\n",
              "</svg>\n",
              "      </button>\n",
              "    </div>\n",
              "\n",
              "<style>\n",
              "  .colab-df-quickchart {\n",
              "    background-color: #E8F0FE;\n",
              "    border: none;\n",
              "    border-radius: 50%;\n",
              "    cursor: pointer;\n",
              "    display: none;\n",
              "    fill: #1967D2;\n",
              "    height: 32px;\n",
              "    padding: 0 0 0 0;\n",
              "    width: 32px;\n",
              "  }\n",
              "\n",
              "  .colab-df-quickchart:hover {\n",
              "    background-color: #E2EBFA;\n",
              "    box-shadow: 0px 1px 2px rgba(60, 64, 67, 0.3), 0px 1px 3px 1px rgba(60, 64, 67, 0.15);\n",
              "    fill: #174EA6;\n",
              "  }\n",
              "\n",
              "  [theme=dark] .colab-df-quickchart {\n",
              "    background-color: #3B4455;\n",
              "    fill: #D2E3FC;\n",
              "  }\n",
              "\n",
              "  [theme=dark] .colab-df-quickchart:hover {\n",
              "    background-color: #434B5C;\n",
              "    box-shadow: 0px 1px 3px 1px rgba(0, 0, 0, 0.15);\n",
              "    filter: drop-shadow(0px 1px 2px rgba(0, 0, 0, 0.3));\n",
              "    fill: #FFFFFF;\n",
              "  }\n",
              "</style>\n",
              "\n",
              "    <script>\n",
              "      async function quickchart(key) {\n",
              "        const containerElement = document.querySelector('#' + key);\n",
              "        const charts = await google.colab.kernel.invokeFunction(\n",
              "            'suggestCharts', [key], {});\n",
              "      }\n",
              "    </script>\n",
              "\n",
              "      <script>\n",
              "\n",
              "function displayQuickchartButton(domScope) {\n",
              "  let quickchartButtonEl =\n",
              "    domScope.querySelector('#df-6fda9ac3-29e9-442d-9e43-309e9cecd8b5 button.colab-df-quickchart');\n",
              "  quickchartButtonEl.style.display =\n",
              "    google.colab.kernel.accessAllowed ? 'block' : 'none';\n",
              "}\n",
              "\n",
              "        displayQuickchartButton(document);\n",
              "      </script>\n",
              "      <style>\n",
              "    .colab-df-container {\n",
              "      display:flex;\n",
              "      flex-wrap:wrap;\n",
              "      gap: 12px;\n",
              "    }\n",
              "\n",
              "    .colab-df-convert {\n",
              "      background-color: #E8F0FE;\n",
              "      border: none;\n",
              "      border-radius: 50%;\n",
              "      cursor: pointer;\n",
              "      display: none;\n",
              "      fill: #1967D2;\n",
              "      height: 32px;\n",
              "      padding: 0 0 0 0;\n",
              "      width: 32px;\n",
              "    }\n",
              "\n",
              "    .colab-df-convert:hover {\n",
              "      background-color: #E2EBFA;\n",
              "      box-shadow: 0px 1px 2px rgba(60, 64, 67, 0.3), 0px 1px 3px 1px rgba(60, 64, 67, 0.15);\n",
              "      fill: #174EA6;\n",
              "    }\n",
              "\n",
              "    [theme=dark] .colab-df-convert {\n",
              "      background-color: #3B4455;\n",
              "      fill: #D2E3FC;\n",
              "    }\n",
              "\n",
              "    [theme=dark] .colab-df-convert:hover {\n",
              "      background-color: #434B5C;\n",
              "      box-shadow: 0px 1px 3px 1px rgba(0, 0, 0, 0.15);\n",
              "      filter: drop-shadow(0px 1px 2px rgba(0, 0, 0, 0.3));\n",
              "      fill: #FFFFFF;\n",
              "    }\n",
              "  </style>\n",
              "\n",
              "      <script>\n",
              "        const buttonEl =\n",
              "          document.querySelector('#df-cf41f5c9-1a1d-40b1-9d4f-248186d7cf68 button.colab-df-convert');\n",
              "        buttonEl.style.display =\n",
              "          google.colab.kernel.accessAllowed ? 'block' : 'none';\n",
              "\n",
              "        async function convertToInteractive(key) {\n",
              "          const element = document.querySelector('#df-cf41f5c9-1a1d-40b1-9d4f-248186d7cf68');\n",
              "          const dataTable =\n",
              "            await google.colab.kernel.invokeFunction('convertToInteractive',\n",
              "                                                     [key], {});\n",
              "          if (!dataTable) return;\n",
              "\n",
              "          const docLinkHtml = 'Like what you see? Visit the ' +\n",
              "            '<a target=\"_blank\" href=https://colab.research.google.com/notebooks/data_table.ipynb>data table notebook</a>'\n",
              "            + ' to learn more about interactive tables.';\n",
              "          element.innerHTML = '';\n",
              "          dataTable['output_type'] = 'display_data';\n",
              "          await google.colab.output.renderOutput(dataTable, element);\n",
              "          const docLink = document.createElement('div');\n",
              "          docLink.innerHTML = docLinkHtml;\n",
              "          element.appendChild(docLink);\n",
              "        }\n",
              "      </script>\n",
              "    </div>\n",
              "  </div>\n"
            ]
          },
          "metadata": {},
          "execution_count": 15
        }
      ]
    },
    {
      "cell_type": "markdown",
      "source": [
        "###In order to perform topic modelling we need to include the file contents in the df against each 'File_ID'.\n",
        "**Let's Read the PDF files from our dataset!**"
      ],
      "metadata": {
        "id": "Jvd3YP__XUgx"
      }
    },
    {
      "cell_type": "code",
      "source": [
        "#We will intall the required packages for reading PDF files into pandas\n",
        "\n",
        "!pip install PyPDF2\n",
        "import PyPDF2\n",
        "import warnings\n",
        "!pip install textract\n",
        "import textract\n",
        "warnings.filterwarnings(\"ignore\",category=DeprecationWarning)\n",
        "#Know more at https://pypdf2.readthedocs.io/en/3.0.0/user/extract-text.html"
      ],
      "metadata": {
        "id": "qt-OdfYAW9UU"
      },
      "execution_count": null,
      "outputs": []
    },
    {
      "cell_type": "code",
      "source": [
        "#defining the file reader function:\n",
        "import numpy as np\n",
        "def read_file(num_files,df):\n",
        "  text_list = []\n",
        "  for i in range(num_files):\n",
        "    file_id = df['File_ID'][i]\n",
        "    file_name = file_id + '.pdf'\n",
        "    path = '/content/dataset/train/' + file_name\n",
        "#Lets read our pdf for the manifesto using the PdfFileReader() function from the PyPDF2 which is a package for extracting document information such as title, author, number of pages,\n",
        "#...., spliting documents page by page, merging page by page, etc.\n",
        "#filename = '/content/dataset/train/0x205cc.pdf'\n",
        "    open_path = open(path, 'rb')\n",
        "    ind_zoology = PyPDF2.PdfReader(open_path)\n",
        "\n",
        "    count = 0\n",
        "    text  = ''\n",
        "\n",
        "# Lets loop through, to read each page from the pdf file\n",
        "    while(count < len(ind_zoology.pages)):\n",
        "    # Get the specified number of pages in the document\n",
        "      mani_page  = ind_zoology.pages[count]\n",
        "    # Process the next page\n",
        "      count += 1\n",
        "    # Extract the text from the page\n",
        "      text += mani_page.extract_text()\n",
        "\n",
        "    if text != '':\n",
        "      text = text\n",
        "      text_list.append(text)\n",
        "\n",
        "    else:\n",
        "      textract.process(open_path, method='tesseract', encoding='utf-8', langauge='eng' )\n",
        "      text_list.append(text)\n",
        "  return text_list\n"
      ],
      "metadata": {
        "id": "_3LInPwhYPx5"
      },
      "execution_count": 17,
      "outputs": []
    },
    {
      "cell_type": "code",
      "source": [
        "#we will read the content of the PDF files and append it to the x_train & x_eval df\n",
        "\n",
        "#Reading the contents of the x_train data\n",
        "x_train['content'] = np.array(read_file(x_train.shape[0],x_train))\n",
        "x_train.head()"
      ],
      "metadata": {
        "colab": {
          "base_uri": "https://localhost:8080/",
          "height": 206
        },
        "id": "WLDlYbDiYcDk",
        "outputId": "f2e63142-81f7-4019-df2d-1a8e44749840"
      },
      "execution_count": 18,
      "outputs": [
        {
          "output_type": "execute_result",
          "data": {
            "text/plain": [
              "   File_ID Is_Mixedup           Topic  \\\n",
              "0  0x22a37         NO  Animal Species   \n",
              "1  0x23e80         NO  Animal Species   \n",
              "2  0x2354e         NO   Plant Species   \n",
              "3  0x23845        YES  Not Applicable   \n",
              "4  0x2198b         NO  Animal Species   \n",
              "\n",
              "                                             content  \n",
              "0  Biological Research Labs\\n Dolphins swim by mo...  \n",
              "1  Biological Research Labs\\nCuckoos are birds in...  \n",
              "2  Biological Research Labs\\n  Dole ceased its ca...  \n",
              "3  Biological Research Labs\\nIt mostly inhabits r...  \n",
              "4  Biological Research Labs\\n of Animal Science, ...  "
            ],
            "text/html": [
              "\n",
              "\n",
              "  <div id=\"df-8d6358f3-343e-447a-a434-d541e2e5e0fd\">\n",
              "    <div class=\"colab-df-container\">\n",
              "      <div>\n",
              "<style scoped>\n",
              "    .dataframe tbody tr th:only-of-type {\n",
              "        vertical-align: middle;\n",
              "    }\n",
              "\n",
              "    .dataframe tbody tr th {\n",
              "        vertical-align: top;\n",
              "    }\n",
              "\n",
              "    .dataframe thead th {\n",
              "        text-align: right;\n",
              "    }\n",
              "</style>\n",
              "<table border=\"1\" class=\"dataframe\">\n",
              "  <thead>\n",
              "    <tr style=\"text-align: right;\">\n",
              "      <th></th>\n",
              "      <th>File_ID</th>\n",
              "      <th>Is_Mixedup</th>\n",
              "      <th>Topic</th>\n",
              "      <th>content</th>\n",
              "    </tr>\n",
              "  </thead>\n",
              "  <tbody>\n",
              "    <tr>\n",
              "      <th>0</th>\n",
              "      <td>0x22a37</td>\n",
              "      <td>NO</td>\n",
              "      <td>Animal Species</td>\n",
              "      <td>Biological Research Labs\\n Dolphins swim by mo...</td>\n",
              "    </tr>\n",
              "    <tr>\n",
              "      <th>1</th>\n",
              "      <td>0x23e80</td>\n",
              "      <td>NO</td>\n",
              "      <td>Animal Species</td>\n",
              "      <td>Biological Research Labs\\nCuckoos are birds in...</td>\n",
              "    </tr>\n",
              "    <tr>\n",
              "      <th>2</th>\n",
              "      <td>0x2354e</td>\n",
              "      <td>NO</td>\n",
              "      <td>Plant Species</td>\n",
              "      <td>Biological Research Labs\\n  Dole ceased its ca...</td>\n",
              "    </tr>\n",
              "    <tr>\n",
              "      <th>3</th>\n",
              "      <td>0x23845</td>\n",
              "      <td>YES</td>\n",
              "      <td>Not Applicable</td>\n",
              "      <td>Biological Research Labs\\nIt mostly inhabits r...</td>\n",
              "    </tr>\n",
              "    <tr>\n",
              "      <th>4</th>\n",
              "      <td>0x2198b</td>\n",
              "      <td>NO</td>\n",
              "      <td>Animal Species</td>\n",
              "      <td>Biological Research Labs\\n of Animal Science, ...</td>\n",
              "    </tr>\n",
              "  </tbody>\n",
              "</table>\n",
              "</div>\n",
              "      <button class=\"colab-df-convert\" onclick=\"convertToInteractive('df-8d6358f3-343e-447a-a434-d541e2e5e0fd')\"\n",
              "              title=\"Convert this dataframe to an interactive table.\"\n",
              "              style=\"display:none;\">\n",
              "\n",
              "  <svg xmlns=\"http://www.w3.org/2000/svg\" height=\"24px\"viewBox=\"0 0 24 24\"\n",
              "       width=\"24px\">\n",
              "    <path d=\"M0 0h24v24H0V0z\" fill=\"none\"/>\n",
              "    <path d=\"M18.56 5.44l.94 2.06.94-2.06 2.06-.94-2.06-.94-.94-2.06-.94 2.06-2.06.94zm-11 1L8.5 8.5l.94-2.06 2.06-.94-2.06-.94L8.5 2.5l-.94 2.06-2.06.94zm10 10l.94 2.06.94-2.06 2.06-.94-2.06-.94-.94-2.06-.94 2.06-2.06.94z\"/><path d=\"M17.41 7.96l-1.37-1.37c-.4-.4-.92-.59-1.43-.59-.52 0-1.04.2-1.43.59L10.3 9.45l-7.72 7.72c-.78.78-.78 2.05 0 2.83L4 21.41c.39.39.9.59 1.41.59.51 0 1.02-.2 1.41-.59l7.78-7.78 2.81-2.81c.8-.78.8-2.07 0-2.86zM5.41 20L4 18.59l7.72-7.72 1.47 1.35L5.41 20z\"/>\n",
              "  </svg>\n",
              "      </button>\n",
              "\n",
              "\n",
              "\n",
              "    <div id=\"df-173615e4-3d15-4aee-a7b8-8f65afad8b6a\">\n",
              "      <button class=\"colab-df-quickchart\" onclick=\"quickchart('df-173615e4-3d15-4aee-a7b8-8f65afad8b6a')\"\n",
              "              title=\"Suggest charts.\"\n",
              "              style=\"display:none;\">\n",
              "\n",
              "<svg xmlns=\"http://www.w3.org/2000/svg\" height=\"24px\"viewBox=\"0 0 24 24\"\n",
              "     width=\"24px\">\n",
              "    <g>\n",
              "        <path d=\"M19 3H5c-1.1 0-2 .9-2 2v14c0 1.1.9 2 2 2h14c1.1 0 2-.9 2-2V5c0-1.1-.9-2-2-2zM9 17H7v-7h2v7zm4 0h-2V7h2v10zm4 0h-2v-4h2v4z\"/>\n",
              "    </g>\n",
              "</svg>\n",
              "      </button>\n",
              "    </div>\n",
              "\n",
              "<style>\n",
              "  .colab-df-quickchart {\n",
              "    background-color: #E8F0FE;\n",
              "    border: none;\n",
              "    border-radius: 50%;\n",
              "    cursor: pointer;\n",
              "    display: none;\n",
              "    fill: #1967D2;\n",
              "    height: 32px;\n",
              "    padding: 0 0 0 0;\n",
              "    width: 32px;\n",
              "  }\n",
              "\n",
              "  .colab-df-quickchart:hover {\n",
              "    background-color: #E2EBFA;\n",
              "    box-shadow: 0px 1px 2px rgba(60, 64, 67, 0.3), 0px 1px 3px 1px rgba(60, 64, 67, 0.15);\n",
              "    fill: #174EA6;\n",
              "  }\n",
              "\n",
              "  [theme=dark] .colab-df-quickchart {\n",
              "    background-color: #3B4455;\n",
              "    fill: #D2E3FC;\n",
              "  }\n",
              "\n",
              "  [theme=dark] .colab-df-quickchart:hover {\n",
              "    background-color: #434B5C;\n",
              "    box-shadow: 0px 1px 3px 1px rgba(0, 0, 0, 0.15);\n",
              "    filter: drop-shadow(0px 1px 2px rgba(0, 0, 0, 0.3));\n",
              "    fill: #FFFFFF;\n",
              "  }\n",
              "</style>\n",
              "\n",
              "    <script>\n",
              "      async function quickchart(key) {\n",
              "        const containerElement = document.querySelector('#' + key);\n",
              "        const charts = await google.colab.kernel.invokeFunction(\n",
              "            'suggestCharts', [key], {});\n",
              "      }\n",
              "    </script>\n",
              "\n",
              "      <script>\n",
              "\n",
              "function displayQuickchartButton(domScope) {\n",
              "  let quickchartButtonEl =\n",
              "    domScope.querySelector('#df-173615e4-3d15-4aee-a7b8-8f65afad8b6a button.colab-df-quickchart');\n",
              "  quickchartButtonEl.style.display =\n",
              "    google.colab.kernel.accessAllowed ? 'block' : 'none';\n",
              "}\n",
              "\n",
              "        displayQuickchartButton(document);\n",
              "      </script>\n",
              "      <style>\n",
              "    .colab-df-container {\n",
              "      display:flex;\n",
              "      flex-wrap:wrap;\n",
              "      gap: 12px;\n",
              "    }\n",
              "\n",
              "    .colab-df-convert {\n",
              "      background-color: #E8F0FE;\n",
              "      border: none;\n",
              "      border-radius: 50%;\n",
              "      cursor: pointer;\n",
              "      display: none;\n",
              "      fill: #1967D2;\n",
              "      height: 32px;\n",
              "      padding: 0 0 0 0;\n",
              "      width: 32px;\n",
              "    }\n",
              "\n",
              "    .colab-df-convert:hover {\n",
              "      background-color: #E2EBFA;\n",
              "      box-shadow: 0px 1px 2px rgba(60, 64, 67, 0.3), 0px 1px 3px 1px rgba(60, 64, 67, 0.15);\n",
              "      fill: #174EA6;\n",
              "    }\n",
              "\n",
              "    [theme=dark] .colab-df-convert {\n",
              "      background-color: #3B4455;\n",
              "      fill: #D2E3FC;\n",
              "    }\n",
              "\n",
              "    [theme=dark] .colab-df-convert:hover {\n",
              "      background-color: #434B5C;\n",
              "      box-shadow: 0px 1px 3px 1px rgba(0, 0, 0, 0.15);\n",
              "      filter: drop-shadow(0px 1px 2px rgba(0, 0, 0, 0.3));\n",
              "      fill: #FFFFFF;\n",
              "    }\n",
              "  </style>\n",
              "\n",
              "      <script>\n",
              "        const buttonEl =\n",
              "          document.querySelector('#df-8d6358f3-343e-447a-a434-d541e2e5e0fd button.colab-df-convert');\n",
              "        buttonEl.style.display =\n",
              "          google.colab.kernel.accessAllowed ? 'block' : 'none';\n",
              "\n",
              "        async function convertToInteractive(key) {\n",
              "          const element = document.querySelector('#df-8d6358f3-343e-447a-a434-d541e2e5e0fd');\n",
              "          const dataTable =\n",
              "            await google.colab.kernel.invokeFunction('convertToInteractive',\n",
              "                                                     [key], {});\n",
              "          if (!dataTable) return;\n",
              "\n",
              "          const docLinkHtml = 'Like what you see? Visit the ' +\n",
              "            '<a target=\"_blank\" href=https://colab.research.google.com/notebooks/data_table.ipynb>data table notebook</a>'\n",
              "            + ' to learn more about interactive tables.';\n",
              "          element.innerHTML = '';\n",
              "          dataTable['output_type'] = 'display_data';\n",
              "          await google.colab.output.renderOutput(dataTable, element);\n",
              "          const docLink = document.createElement('div');\n",
              "          docLink.innerHTML = docLinkHtml;\n",
              "          element.appendChild(docLink);\n",
              "        }\n",
              "      </script>\n",
              "    </div>\n",
              "  </div>\n"
            ]
          },
          "metadata": {},
          "execution_count": 18
        }
      ]
    },
    {
      "cell_type": "code",
      "source": [
        "#Reading the contents of the x_eval data\n",
        "x_eval['content'] = np.array(read_file(x_eval.shape[0],x_eval))\n",
        "x_eval.head()"
      ],
      "metadata": {
        "colab": {
          "base_uri": "https://localhost:8080/",
          "height": 206
        },
        "id": "FHizbdQiYb5E",
        "outputId": "edf9a78f-7b22-43bc-8e75-df187a09d6cf"
      },
      "execution_count": 19,
      "outputs": [
        {
          "output_type": "execute_result",
          "data": {
            "text/plain": [
              "   File_ID Is_Mixedup           Topic  \\\n",
              "0  0x214f1         NO  Animal Species   \n",
              "1  0x220ed         NO  Animal Species   \n",
              "2  0x210cd         NO  Animal Species   \n",
              "3  0x212b4         NO  Animal Species   \n",
              "4  0x20cb0        YES  Not Applicable   \n",
              "\n",
              "                                             content  \n",
              "0  Biological Research Labs\\nToday there are only...  \n",
              "1  Biological Research Labs\\n They still needed t...  \n",
              "2  Biological Research Labs\\nPoaceae () or Gramin...  \n",
              "3  Biological Research Labs\\n The fancy rat and w...  \n",
              "4  Biological Research Labs\\nHummingbirds are bir...  "
            ],
            "text/html": [
              "\n",
              "\n",
              "  <div id=\"df-f74493b0-e74b-4891-ab83-4aba63910966\">\n",
              "    <div class=\"colab-df-container\">\n",
              "      <div>\n",
              "<style scoped>\n",
              "    .dataframe tbody tr th:only-of-type {\n",
              "        vertical-align: middle;\n",
              "    }\n",
              "\n",
              "    .dataframe tbody tr th {\n",
              "        vertical-align: top;\n",
              "    }\n",
              "\n",
              "    .dataframe thead th {\n",
              "        text-align: right;\n",
              "    }\n",
              "</style>\n",
              "<table border=\"1\" class=\"dataframe\">\n",
              "  <thead>\n",
              "    <tr style=\"text-align: right;\">\n",
              "      <th></th>\n",
              "      <th>File_ID</th>\n",
              "      <th>Is_Mixedup</th>\n",
              "      <th>Topic</th>\n",
              "      <th>content</th>\n",
              "    </tr>\n",
              "  </thead>\n",
              "  <tbody>\n",
              "    <tr>\n",
              "      <th>0</th>\n",
              "      <td>0x214f1</td>\n",
              "      <td>NO</td>\n",
              "      <td>Animal Species</td>\n",
              "      <td>Biological Research Labs\\nToday there are only...</td>\n",
              "    </tr>\n",
              "    <tr>\n",
              "      <th>1</th>\n",
              "      <td>0x220ed</td>\n",
              "      <td>NO</td>\n",
              "      <td>Animal Species</td>\n",
              "      <td>Biological Research Labs\\n They still needed t...</td>\n",
              "    </tr>\n",
              "    <tr>\n",
              "      <th>2</th>\n",
              "      <td>0x210cd</td>\n",
              "      <td>NO</td>\n",
              "      <td>Animal Species</td>\n",
              "      <td>Biological Research Labs\\nPoaceae () or Gramin...</td>\n",
              "    </tr>\n",
              "    <tr>\n",
              "      <th>3</th>\n",
              "      <td>0x212b4</td>\n",
              "      <td>NO</td>\n",
              "      <td>Animal Species</td>\n",
              "      <td>Biological Research Labs\\n The fancy rat and w...</td>\n",
              "    </tr>\n",
              "    <tr>\n",
              "      <th>4</th>\n",
              "      <td>0x20cb0</td>\n",
              "      <td>YES</td>\n",
              "      <td>Not Applicable</td>\n",
              "      <td>Biological Research Labs\\nHummingbirds are bir...</td>\n",
              "    </tr>\n",
              "  </tbody>\n",
              "</table>\n",
              "</div>\n",
              "      <button class=\"colab-df-convert\" onclick=\"convertToInteractive('df-f74493b0-e74b-4891-ab83-4aba63910966')\"\n",
              "              title=\"Convert this dataframe to an interactive table.\"\n",
              "              style=\"display:none;\">\n",
              "\n",
              "  <svg xmlns=\"http://www.w3.org/2000/svg\" height=\"24px\"viewBox=\"0 0 24 24\"\n",
              "       width=\"24px\">\n",
              "    <path d=\"M0 0h24v24H0V0z\" fill=\"none\"/>\n",
              "    <path d=\"M18.56 5.44l.94 2.06.94-2.06 2.06-.94-2.06-.94-.94-2.06-.94 2.06-2.06.94zm-11 1L8.5 8.5l.94-2.06 2.06-.94-2.06-.94L8.5 2.5l-.94 2.06-2.06.94zm10 10l.94 2.06.94-2.06 2.06-.94-2.06-.94-.94-2.06-.94 2.06-2.06.94z\"/><path d=\"M17.41 7.96l-1.37-1.37c-.4-.4-.92-.59-1.43-.59-.52 0-1.04.2-1.43.59L10.3 9.45l-7.72 7.72c-.78.78-.78 2.05 0 2.83L4 21.41c.39.39.9.59 1.41.59.51 0 1.02-.2 1.41-.59l7.78-7.78 2.81-2.81c.8-.78.8-2.07 0-2.86zM5.41 20L4 18.59l7.72-7.72 1.47 1.35L5.41 20z\"/>\n",
              "  </svg>\n",
              "      </button>\n",
              "\n",
              "\n",
              "\n",
              "    <div id=\"df-624668dc-8653-4c2a-8d2e-ca8b48a09e6d\">\n",
              "      <button class=\"colab-df-quickchart\" onclick=\"quickchart('df-624668dc-8653-4c2a-8d2e-ca8b48a09e6d')\"\n",
              "              title=\"Suggest charts.\"\n",
              "              style=\"display:none;\">\n",
              "\n",
              "<svg xmlns=\"http://www.w3.org/2000/svg\" height=\"24px\"viewBox=\"0 0 24 24\"\n",
              "     width=\"24px\">\n",
              "    <g>\n",
              "        <path d=\"M19 3H5c-1.1 0-2 .9-2 2v14c0 1.1.9 2 2 2h14c1.1 0 2-.9 2-2V5c0-1.1-.9-2-2-2zM9 17H7v-7h2v7zm4 0h-2V7h2v10zm4 0h-2v-4h2v4z\"/>\n",
              "    </g>\n",
              "</svg>\n",
              "      </button>\n",
              "    </div>\n",
              "\n",
              "<style>\n",
              "  .colab-df-quickchart {\n",
              "    background-color: #E8F0FE;\n",
              "    border: none;\n",
              "    border-radius: 50%;\n",
              "    cursor: pointer;\n",
              "    display: none;\n",
              "    fill: #1967D2;\n",
              "    height: 32px;\n",
              "    padding: 0 0 0 0;\n",
              "    width: 32px;\n",
              "  }\n",
              "\n",
              "  .colab-df-quickchart:hover {\n",
              "    background-color: #E2EBFA;\n",
              "    box-shadow: 0px 1px 2px rgba(60, 64, 67, 0.3), 0px 1px 3px 1px rgba(60, 64, 67, 0.15);\n",
              "    fill: #174EA6;\n",
              "  }\n",
              "\n",
              "  [theme=dark] .colab-df-quickchart {\n",
              "    background-color: #3B4455;\n",
              "    fill: #D2E3FC;\n",
              "  }\n",
              "\n",
              "  [theme=dark] .colab-df-quickchart:hover {\n",
              "    background-color: #434B5C;\n",
              "    box-shadow: 0px 1px 3px 1px rgba(0, 0, 0, 0.15);\n",
              "    filter: drop-shadow(0px 1px 2px rgba(0, 0, 0, 0.3));\n",
              "    fill: #FFFFFF;\n",
              "  }\n",
              "</style>\n",
              "\n",
              "    <script>\n",
              "      async function quickchart(key) {\n",
              "        const containerElement = document.querySelector('#' + key);\n",
              "        const charts = await google.colab.kernel.invokeFunction(\n",
              "            'suggestCharts', [key], {});\n",
              "      }\n",
              "    </script>\n",
              "\n",
              "      <script>\n",
              "\n",
              "function displayQuickchartButton(domScope) {\n",
              "  let quickchartButtonEl =\n",
              "    domScope.querySelector('#df-624668dc-8653-4c2a-8d2e-ca8b48a09e6d button.colab-df-quickchart');\n",
              "  quickchartButtonEl.style.display =\n",
              "    google.colab.kernel.accessAllowed ? 'block' : 'none';\n",
              "}\n",
              "\n",
              "        displayQuickchartButton(document);\n",
              "      </script>\n",
              "      <style>\n",
              "    .colab-df-container {\n",
              "      display:flex;\n",
              "      flex-wrap:wrap;\n",
              "      gap: 12px;\n",
              "    }\n",
              "\n",
              "    .colab-df-convert {\n",
              "      background-color: #E8F0FE;\n",
              "      border: none;\n",
              "      border-radius: 50%;\n",
              "      cursor: pointer;\n",
              "      display: none;\n",
              "      fill: #1967D2;\n",
              "      height: 32px;\n",
              "      padding: 0 0 0 0;\n",
              "      width: 32px;\n",
              "    }\n",
              "\n",
              "    .colab-df-convert:hover {\n",
              "      background-color: #E2EBFA;\n",
              "      box-shadow: 0px 1px 2px rgba(60, 64, 67, 0.3), 0px 1px 3px 1px rgba(60, 64, 67, 0.15);\n",
              "      fill: #174EA6;\n",
              "    }\n",
              "\n",
              "    [theme=dark] .colab-df-convert {\n",
              "      background-color: #3B4455;\n",
              "      fill: #D2E3FC;\n",
              "    }\n",
              "\n",
              "    [theme=dark] .colab-df-convert:hover {\n",
              "      background-color: #434B5C;\n",
              "      box-shadow: 0px 1px 3px 1px rgba(0, 0, 0, 0.15);\n",
              "      filter: drop-shadow(0px 1px 2px rgba(0, 0, 0, 0.3));\n",
              "      fill: #FFFFFF;\n",
              "    }\n",
              "  </style>\n",
              "\n",
              "      <script>\n",
              "        const buttonEl =\n",
              "          document.querySelector('#df-f74493b0-e74b-4891-ab83-4aba63910966 button.colab-df-convert');\n",
              "        buttonEl.style.display =\n",
              "          google.colab.kernel.accessAllowed ? 'block' : 'none';\n",
              "\n",
              "        async function convertToInteractive(key) {\n",
              "          const element = document.querySelector('#df-f74493b0-e74b-4891-ab83-4aba63910966');\n",
              "          const dataTable =\n",
              "            await google.colab.kernel.invokeFunction('convertToInteractive',\n",
              "                                                     [key], {});\n",
              "          if (!dataTable) return;\n",
              "\n",
              "          const docLinkHtml = 'Like what you see? Visit the ' +\n",
              "            '<a target=\"_blank\" href=https://colab.research.google.com/notebooks/data_table.ipynb>data table notebook</a>'\n",
              "            + ' to learn more about interactive tables.';\n",
              "          element.innerHTML = '';\n",
              "          dataTable['output_type'] = 'display_data';\n",
              "          await google.colab.output.renderOutput(dataTable, element);\n",
              "          const docLink = document.createElement('div');\n",
              "          docLink.innerHTML = docLinkHtml;\n",
              "          element.appendChild(docLink);\n",
              "        }\n",
              "      </script>\n",
              "    </div>\n",
              "  </div>\n"
            ]
          },
          "metadata": {},
          "execution_count": 19
        }
      ]
    },
    {
      "cell_type": "markdown",
      "source": [
        "Now, once the PDF contents are read, we will proceed for text cleaning, normalization and preprocessing to format it in a way the ML models can interpret"
      ],
      "metadata": {
        "id": "v0Kqg7gDY9D8"
      }
    },
    {
      "cell_type": "markdown",
      "source": [
        "#Data Pre-processing and Cleaning"
      ],
      "metadata": {
        "id": "7he-wlblYy9s"
      }
    },
    {
      "cell_type": "code",
      "source": [
        "#Downloading the required packages\n",
        "\n",
        "import nltk\n",
        "nltk.download('punkt') #resource 'punkt' is required for word_tokenizer\n",
        "nltk.download('wordnet') #need 'wordnet' corpus for using this lemmatizer\n",
        "nltk.download('averaged_perceptron_tagger') #need for POS(Parts Of Speech) tagger\n",
        "nltk.download('stopwords')\n",
        "\n",
        "from nltk.tokenize import RegexpTokenizer\n",
        "from nltk.stem import WordNetLemmatizer\n",
        "from nltk.corpus import wordnet\n",
        "from nltk.stem import PorterStemmer\n",
        "from nltk.corpus import stopwords"
      ],
      "metadata": {
        "colab": {
          "base_uri": "https://localhost:8080/"
        },
        "id": "jKEoTNNNYsxw",
        "outputId": "cbc7be15-aec7-4d23-c499-f0dc4d35a542"
      },
      "execution_count": 31,
      "outputs": [
        {
          "output_type": "stream",
          "name": "stderr",
          "text": [
            "[nltk_data] Downloading package punkt to /root/nltk_data...\n",
            "[nltk_data]   Package punkt is already up-to-date!\n",
            "[nltk_data] Downloading package wordnet to /root/nltk_data...\n",
            "[nltk_data]   Package wordnet is already up-to-date!\n",
            "[nltk_data] Downloading package averaged_perceptron_tagger to\n",
            "[nltk_data]     /root/nltk_data...\n",
            "[nltk_data]   Package averaged_perceptron_tagger is already up-to-\n",
            "[nltk_data]       date!\n",
            "[nltk_data] Downloading package stopwords to /root/nltk_data...\n",
            "[nltk_data]   Unzipping corpora/stopwords.zip.\n"
          ]
        }
      ]
    },
    {
      "cell_type": "markdown",
      "source": [
        "We will examine how each tokenizer performs and whether we should lemmatize or stem a text.\n",
        "\n",
        "We shall perform it using a single doc and then decide which one to use for the whole doc set"
      ],
      "metadata": {
        "id": "bants91led1u"
      }
    },
    {
      "cell_type": "code",
      "source": [
        "#Let's take a text from x_train dataset\n",
        "sentence = x_train['content'][0]\n",
        "sentence"
      ],
      "metadata": {
        "id": "HoQhpwOpYsuu"
      },
      "execution_count": null,
      "outputs": []
    },
    {
      "cell_type": "code",
      "source": [
        "#WordNet tokenizer\n",
        "word_token=nltk.word_tokenize(sentence)\n",
        "print(word_token)"
      ],
      "metadata": {
        "colab": {
          "base_uri": "https://localhost:8080/"
        },
        "id": "iVXyuhn7YsrZ",
        "outputId": "3b301e9e-24b7-4c6c-9329-29bcefffa38b"
      },
      "execution_count": 24,
      "outputs": [
        {
          "output_type": "stream",
          "name": "stdout",
          "text": [
            "['Biological', 'Research', 'Labs', 'Dolphins', 'swim', 'by', 'moving', 'their', 'tail', 'fin', 'and', 'rear', 'body', 'vertically', ',', 'while', 'their', 'flippers', 'are', 'mainly', 'used', 'for', 'steering', 'Some', 'species', 'log', 'out', 'of', 'the', 'water', ',', 'which', 'may', 'allow', 'them', 'to', 'travel', 'faster', 'Their', 'skeletal', 'anatomy', 'allows', 'them', 'to', 'be', 'fast', 'swimmers', 'All', 'species', 'have', 'a', 'dorsal', 'fin', 'to', 'prevent', 'themselves', 'from', 'involuntarily', 'spinning', 'in', 'the', 'water', 'Some', 'dolphins', 'are', 'adapted', 'for', 'diving', 'to', 'great', 'depths', 'In', 'addition', 'to', 'their', 'streamlined', 'bodies', ',', 'some', 'can', 'selectively', 'slow', 'their', 'heart', 'rate', 'to', 'conserve', 'oxygen', 'Some', 'can', 'also', 're-route', 'blood', 'from', 'tissue', 'tolerant', 'of', 'water', 'pressure', 'to', 'the', 'heart', ',', 'brain', 'and', 'other', 'organs', 'Their', 'hemoglobin', 'and', 'myoglobin', 'store', 'oxygen', 'in', 'body', 'tissues', 'and', 'they', 'have', 'twice', 'the', 'concentration', 'of', 'myoglobin', 'than', 'hemoglobin', \"'\", 'Sensory', \"'\", 'The', 'dolphin', 'ear', 'has', 'specific', 'adaptations', 'to', 'the', 'marine', 'environment', 'In', 'humans', ',', 'the', 'middle', 'ear', 'works', 'as', 'an', 'impedance', 'equalizer', 'between', 'the', 'outside', 'air', \"'s\", 'low', 'impedance', 'and', 'the', 'cochlear', 'fluid', \"'s\", 'high', 'impedance', 'In', 'dolphins', ',', 'and', 'other', 'marine', 'mammals', ',', 'there', 'is', 'no', 'great', 'difference', 'between', 'the', 'outer', 'and', 'inner', 'environments', 'Instead', 'of', 'sound', 'passing', 'through', 'the', 'outer', 'ear', 'to', 'the', 'middle', 'ear', ',', 'dolphins', 'receive', 'sound', 'through', 'the', 'throat', ',', 'from', 'which', 'it', 'passes', 'through', 'a', 'low-impedance', 'fat-filled', 'cavity', 'to', 'the', 'inner', 'ear', 'The', 'dolphin', 'ear', 'is', 'acoustically', 'isolated', 'from', 'the', 'skull', 'by', 'air-filled', 'sinus', 'pockets', ',', 'which', 'allow', 'for', 'greater', 'directional', 'hearing', 'underwater', 'Dolphins', 'send', 'out', 'high', 'frequency', 'clicks', 'from', 'an', 'organ', 'known', 'as', 'a', 'melon', 'This', 'melon', 'consists', 'of', 'fat', ',', 'and', 'the', 'skull', 'of', 'any', 'such', 'creature', 'containing', 'a', 'melon', 'will', 'have', 'a', 'large', 'depression', 'This', 'allows', 'dolphins', 'to', 'produce', 'biosonar', 'for', 'orientation', 'Though', 'most', 'dolphins', 'do', 'not', 'have', 'hair', ',', 'they', 'do', 'have', 'hair', 'follicles', 'that', 'may', 'perform', 'some', 'sensory', 'function', 'Beyond', 'locating', 'an', 'object', ',', 'echolocation', 'also', 'provides', 'the', 'animal', 'with', 'an', 'idea', 'on', 'an', 'object', \"'s\", 'shape', 'and', 'size', ',', 'though', 'how', 'exactly', 'this', 'works', 'is', 'not', 'yet', 'understood', 'The', 'small', 'hairs', 'on', 'the', 'rostrum', 'of', 'the', 'boto', 'are', 'believed', 'to', 'function', 'as', 'a', 'tactile', 'sense', ',', 'possibly', 'to', 'compensate', 'for', 'the', 'boto', \"'s\", 'poor', 'eyesight', 'The', 'dolphin', 'eye', 'is', 'relatively', 'small', 'for', 'its', 'size', ',', 'yet', 'they', 'do', 'retain', 'a', 'good', 'degree', 'of', 'eyesight', 'As', 'well', 'as', 'this', ',', 'the', 'eyes', 'of', 'a', 'dolphin', 'are', 'placed', 'on', 'the', 'sides', 'of', 'its', 'head', ',', 'so', 'their', 'vision', 'consists', 'of', 'two', 'fields', ',', 'rather', 'than', 'a', 'binocular', 'view', 'like', 'humans', 'have', 'When', 'dolphins', 'surface', ',', 'their', 'lens', 'and', 'cornea', 'correct', 'the', 'nearsightedness', 'that', 'results', 'from', 'the', 'refraction', 'of', 'light', ';', 'they', 'contain', 'both', 'rod', 'and', 'cone', 'cells', ',', 'meaning', 'they', 'can', 'see', 'in', 'both', 'dim', 'and', 'bright', 'light', ',', 'but', 'they', 'have', 'far', 'more', 'rod', 'cells', 'than', 'they', 'do', 'cone', 'cells', 'They', 'lack', 'short', 'wavelength', 'sensitive', 'visual', 'pigments', 'in', 'their', 'cone', 'cells', ',', 'indicating', 'a', 'more', 'limited', 'capacity', 'for', 'color', 'vision', 'than', 'most', 'mammals', 'Most', 'dolphins', 'have', 'slightly', 'flattened', 'eyeballs', ',', 'enlarged', 'pupils', '(', 'which', 'shrink', 'as', 'they', 'surface', 'to', 'prevent', 'damage', ')', ',', 'slightly', 'flattened', 'corneas', 'and', 'a', 'tapetum', 'lucidum', ';', 'these', 'adaptations', 'allow', 'for', 'large', 'amounts', 'of', 'light', 'to', 'pass', 'through', 'the', 'eye', 'and', ',', 'therefore', ',', 'a', 'very', 'clear', 'image', 'of', 'the', 'surrounding', 'area', 'They', 'also', 'have', 'glands', 'on', 'the', 'eyelids', 'and', 'outer', 'corneal', 'layer', 'that', 'act', 'as', 'protection', 'for', 'the', 'cornea', 'The', 'olfactory', 'lobes', 'and', 'nerve', 'are', 'absent', 'in', 'dolphins', ',', 'suggesting', 'that', 'they', 'have', 'no', 'sense', 'of', 'smell', 'Dolphins', 'are', 'not', 'thought', 'to', 'have', 'a', 'good', 'sense', 'of', 'taste', ',', 'as', 'their', 'taste', 'buds', 'are', 'atrophied', 'or', 'missing', 'altogether', \"''\", 'The', 'pollution', 'produced', 'affects', 'biodiversity', ',', 'climate', ',', 'food', ',', 'and', 'human', 'health', 'However', ',', 'the', 'degree', 'to', 'which', 'humans', 'are', 'polluting', 'and', 'how', 'it', 'affects', 'the', 'world', 'is', 'highly', 'debated', 'and', 'has', 'been', 'a', 'hot', 'international', 'topic', 'for', 'the', 'past', '30', 'years', \"'\", 'Oil', 'spills', \"'\", 'Oil', 'spills', 'have', 'devastating', 'effects', 'on', 'the', 'environment', 'Crude', 'oil', 'contains', 'polycyclic', 'aromatic', 'hydrocarbons', '(', 'PAHs', ')', 'which', 'are', 'very', 'difficult', 'to', 'clean', 'up', ',', 'and', 'last', 'for', 'years', 'in', 'the', 'sediment', 'and', 'marine', 'environment', 'Marine', 'species', 'constantly', 'exposed', 'to', 'PAHs', 'can', 'exhibit', 'developmental', 'problems', ',', 'susceptibility', 'to', 'disease', ',', 'and', 'abnormal', 'reproductive', 'cycles', \"'\", 'By', 'the', 'sheer', 'amount', 'of', 'oil', 'carried', ',', 'modern', 'oil', 'tankers', 'must', 'be', 'considered', 'something', 'of', 'a', 'threat', 'to', 'the', 'environment', 'An', 'oil', 'tanker', 'can', 'carry', '2', 'million', 'barrels', '(', '318,000', 'm3', ')', 'of', 'crude', 'oil', ',', 'or', '84,000,000', 'US', 'gallons', '(', '69,940,000', 'imp', 'gal', ';', '318,000,000', 'L', ')', 'This', 'is', 'more', 'than', 'six', 'times', 'the', 'amount', 'spilled', 'in', 'the', 'widely', 'known', 'Page', '1/3Biological', 'Research', 'Labs', 'Exxon', 'Valdez', 'incident', 'In', 'this', 'spill', ',', 'the', 'ship', 'ran', 'aground', 'and', 'dumped', '10,800,000', 'US', 'gallons', '(', '8,993,000', 'imp', 'gal', ';', '40,880,000', 'L', ')', 'of', 'oil', 'into', 'the', 'ocean', 'in', 'March', '1989', 'Despite', 'efforts', 'of', 'scientists', ',', 'managers', ',', 'and', 'volunteers', ',', 'over', '400,000', 'seabirds', ',', 'about', '1,000', 'sea', 'otters', ',', 'and', 'immense', 'numbers', 'of', 'fish', 'were', 'killed', 'The', 'International', 'Tanker', 'Owners', 'Pollution', 'Federation', 'has', 'researched', '9,351', 'accidental', 'spills', 'since', '1974', 'According', 'to', 'this', 'study', ',', 'most', 'spills', 'result', 'from', 'routine', 'operations', 'such', 'as', 'loading', 'cargo', ',', 'discharging', 'cargo', ',', 'and', 'taking', 'on', 'fuel', 'oil', '91', '%', 'of', 'the', 'operational', 'oil', 'spills', 'were', 'small', ',', 'resulting', 'in', 'less', 'than', '7', 'tons', 'per', 'spill', 'Spills', 'resulting', 'from', 'accidents', 'like', 'collisions', ',', 'groundings', ',', 'hull', 'failures', ',', 'and', 'explosions', 'are', 'much', 'larger', ',', 'with', '84', '%', 'of', 'these', 'involving', 'losses', 'of', 'over', '700', 'tons', 'Following', 'the', 'Exxon', 'Valdez', 'spill', ',', 'the', 'United', 'States', 'passed', 'the', 'Oil', 'Pollution', 'Act', 'of', '1990', '(', 'OPA-90', ')', ',', 'which', 'included', 'a', 'stipulation', 'that', 'all', 'tankers', 'entering', 'its', 'waters', 'be', 'double-hulled', 'by', '2015', 'Following', 'the', 'sinkings', 'of', 'Erika', '(', '1999', ')', 'and', 'Prestige', '(', '2002', ')', ',', 'the', 'European', 'Union', 'passed', 'its', 'own', 'stringent', 'anti-pollution', 'packages', '(', 'known', 'as', 'Erika', 'I', ',', 'II', ',', 'and', 'III', ')', ',', 'which', 'require', 'all', 'tankers', 'entering', 'its', 'waters', 'to', 'be', 'double-hulled', 'by', '2010', 'The', 'Erika', 'packages', 'are', 'controversial', 'because', 'they', 'introduced', 'the', 'new', 'legal', 'concept', 'of', '``', 'serious', 'negligence', \"''\", \"'\", 'Ballast', 'water', \"'\", 'When', 'a', 'large', 'vessel', 'such', 'as', 'a', 'container', 'ship', 'or', 'an', 'oil', 'tanker', 'unloads', 'cargo', ',', 'seawater', 'is', 'pumped', 'into', 'other', 'compartments', 'in', 'the', 'hull', 'to', 'help', 'stabilize', 'and', 'balance', 'the', 'ship', 'During', 'loading', ',', 'this', 'ballast', 'water', 'is', 'pumped', 'out', 'from', 'these', 'compartments', 'One', 'of', 'the', 'problems', 'with', 'ballast', 'water', 'transfer', 'is', 'the', 'transport', 'of', 'harmful', 'organisms', 'Meinesz', 'believes', 'that', 'one', 'of', 'the', 'worst', 'cases', 'of', 'a', 'single', 'invasive', 'species', 'causing', 'harm', 'to', 'an', 'ecosystem', 'can', 'be', 'attributed', 'to', 'a', 'seemingly', 'harmless', 'planktonic', 'organism', 'Mnemiopsis', 'leidyi', ',', 'a', 'species', 'of', 'comb', 'jelly', 'that', 'inhabits', 'estuaries', 'from', 'the', 'United', 'States', 'to', 'the', 'Vald\\\\xe9s', 'peninsula', 'in', 'Argentina', 'along', 'the', 'Atlantic', 'coast', ',', 'has', 'caused', 'notable', 'damage', 'in', 'the', 'Black', 'Sea', 'It', 'was', 'first', 'introduced', 'in', '1982', ',', 'and', 'thought', 'to', 'have', 'been', 'transported', 'to', 'the', 'Black', 'Sea', 'in', 'a', 'ship\\\\', \"'s\", 'ballast', 'water', 'The', 'population', 'of', 'the', 'comb', 'jelly', 'shot', 'up', 'exponentially', 'and', ',', 'by', '1988', ',', 'it', 'was', 'wreaking', 'havoc', 'upon', 'the', 'local', 'fishing', 'industry', '``', 'The', 'anchovy', 'catch', 'fell', 'from', '204,000', 'tonnes', '(', '225,000', 'short', 'tons', ';', '201,000', 'long', 'tons', ')', 'in', '1984', 'to', '200', 'tonnes', '(', '220', 'short', 'tons', ';', '197', 'long', 'tons', ')', 'in', '1993', ';', 'sprat', 'from', '24,600', 'tonnes', '(', '27,100', 'short', 'tons', ';', '24,200', 'long', 'tons', ')', 'in', '1984', 'to', '12,000', 'tonnes', '(', '13,200', 'short', 'tons', ';', '11,800', 'long', 'tons', ')', 'in', '1993', ';', 'horse', 'mackerel', 'from', '4,000', 'tonnes', '(', '4,410', 'short', 'tons', ';', '3,940', 'long', 'tons', ')', 'in', '1984', 'to', 'zero', 'in', '1993', '``', 'Now', 'that', 'the', 'comb', 'jellies', 'have', 'exhausted', 'the', 'zooplankton', ',', 'including', 'fish', 'larvae', ',', 'their', 'numbers', 'have', 'fallen', 'dramatically', ',', 'yet', 'they', 'continue', 'to', 'maintain', 'a', 'stranglehold', 'on', 'the', \"ecosystem'\", 'Water', 'moats', 'were', 'found', 'in', 'low-lying', 'areas', 'and', 'were', 'usually', 'crossed', 'by', 'a', 'drawbridge', ',', 'although', 'these', 'were', 'often', 'replaced', 'by', 'stone', 'bridges', 'The', 'site', 'of', 'the', '13th-century', 'Caerphilly', 'Castle', 'in', 'Wales', 'covers', 'over', '30', 'acres', '(', '12', 'ha', ')', 'and', 'the', 'water', 'defences', ',', 'created', 'by', 'flooding', 'the', 'valley', 'to', 'the', 'south', 'of', 'the', 'castle', ',', 'are', 'some', 'of', 'the', 'largest', 'in', 'Western', 'Europe', \"'\", 'Battlements', \"'\", 'Battlements', 'were', 'most', 'often', 'found', 'surmounting', 'curtain', 'walls', 'and', 'the', 'tops', 'of', 'gatehouses', ',', 'and', 'comprised', 'several', 'elements', ':', 'crenellations', ',', 'hoardings', ',', 'machicolations', ',', 'and', 'loopholes', 'Crenellation', 'is', 'the', 'collective', 'name', 'for', 'alternating', 'crenels', 'and', 'merlons', ':', 'gaps', 'and', 'solid', 'blocks', 'on', 'top', 'of', 'a', 'wall', 'Hoardings', 'were', 'wooden', 'constructs', 'that', 'projected', 'beyond', 'the', 'wall', ',', 'allowing', 'defenders', 'to', 'shoot', 'at', ',', 'or', 'drop', 'objects', 'on', ',', 'attackers', 'at', 'the', 'base', 'of', 'the', 'wall', 'without', 'having', 'to', 'lean', 'perilously', 'over', 'the', 'crenellations', ',', 'thereby', 'exposing', 'themselves', 'to', 'retaliatory', 'fire', 'Machicolations', 'were', 'stone', 'projections', 'on', 'top', 'of', 'a', 'wall', 'with', 'openings', 'that', 'allowed', 'objects', 'to', 'be', 'dropped', 'on', 'an', 'enemy', 'at', 'the', 'base', 'of', 'the', 'wall', 'in', 'a', 'similar', 'fashion', 'to', 'hoardings', \"'\", 'Arrowslits', \"'\", 'Arrowslits', ',', 'also', 'commonly', 'called', 'loopholes', ',', 'were', 'narrow', 'vertical', 'openings', 'in', 'defensive', 'walls', 'which', 'allowed', 'Page', '2/3Biological', 'Research', 'Labs', 'arrows', 'or', 'crossbow', 'bolts', 'to', 'be', 'fired', 'on', 'attackers', 'The', 'narrow', 'slits', 'were', 'intended', 'to', 'protect', 'the', 'defender', 'by', 'providing', 'a', 'very', 'small', 'target', ',', 'but', 'the', 'size', 'of', 'the', 'opening', 'could', 'also', 'impede', 'the', 'defender', 'if', 'it', 'was', 'too', 'small', 'A', 'smaller', 'horizontal', 'opening', 'could', 'be', 'added', 'to', 'give', 'an', 'archer', 'a', 'better', 'view', 'for', 'aiming', 'Sometimes', 'a', 'sally', 'port', 'was', 'included', ';', 'this', 'could', 'allow', 'the', 'garrison', 'to', 'leave', 'the', 'castle', 'and', 'engage', 'besieging', 'forces', 'It', 'was', 'usual', 'for', 'the', 'latrines', 'to', 'empty', 'down', 'the', 'external', 'walls', 'of', 'a', 'castle', 'and', 'into', 'the', 'surrounding', 'ditch', \"'\", 'Postern', \"'\", 'A', 'postern', 'is', 'a', 'secondary', 'door', 'or', 'gate', 'in', 'a', 'concealed', 'location', ',', 'usually', 'in', 'a', 'fortification', 'such', 'as', 'a', 'city', 'wall', \"'\", 'Great', 'hall', \"'\", 'The', 'great', 'hall', 'was', 'a', 'large', ',', 'decorated', 'room', 'where', 'a', 'lord', 'received', 'his', 'guests', 'The', 'hall', 'represented', 'the', 'prestige', ',', 'authority', ',', 'and', 'richness', 'of', 'the', 'lord', 'Events', 'such', 'as', 'feasts', ',', 'banquets', ',', 'social', 'or', 'ceremonial', 'gatherings', ',', 'meetings', 'of', 'the', 'military', 'council', ',', 'and', 'judicial', 'trials', 'were', 'held', 'in', 'the', 'great', 'hall', 'Sometimes', 'the', 'great', 'hall', 'existed', 'as', 'a', 'separate', 'building', ',', 'in', 'that', 'case', ',', 'it', 'was', 'called', 'a', 'hall-house', \"'\", 'History', \"'\", 'Antecedents', \"'\", 'Historian', 'Charles', 'Coulson', 'states', 'that', 'the', 'accumulation', 'of', 'wealth', 'and', 'resources', ',', 'such', 'as', 'food', ',', 'led', 'to', 'the', 'need', 'for', 'defensive', 'structures', 'The', 'earliest', 'fortifications', 'originated', 'in', 'the', 'Fertile', 'Crescent', ',', 'the', 'Indus', 'Valley', ',', 'Egypt', ',', 'and', 'China', 'where', 'settlements', 'were', 'protected', 'by', 'large', 'walls', 'Northern', 'Europe', 'was', 'slower', 'than', 'the', 'East', 'to', 'develop', 'defensive', 'structures', 'and', 'it', 'was', 'not', 'until', 'the', 'Bronze', 'Age', 'that', 'hill', 'forts', 'were', 'developed', ',', 'which', 'then', 'proliferated', 'across', 'Europe', 'in', 'the', 'Iron', 'Age', 'These', 'structures', 'differed', 'from', 'their', 'eastern', 'counterparts', 'in', 'that', 'they', 'used', 'earthworks', 'rather', 'than', 'stone', 'as', 'a', 'building', 'material', 'Many', 'earthworks', 'survive', 'today', ',', 'along', 'with', 'evidence', 'of', 'palisades', 'to', 'accompany', 'the', 'ditches', 'In', 'Europe', ',', 'oppida', 'emerged', 'in', 'the', '2nd', 'century', 'BC', ';', 'these', 'were', 'densely', 'inhabited', 'fortified', 'settlements', ',', 'such', 'as', 'the', 'oppidum', 'of', 'Manching', ',', 'and', 'developed', 'from', 'hill', \"forts'\", 'Page', '3/3']\n"
          ]
        }
      ]
    },
    {
      "cell_type": "code",
      "source": [
        "#RegexpTokenizer\n",
        "\n",
        "regex_tokenizer = RegexpTokenizer(r'\\w+')\n",
        "tokens_= regex_tokenizer.tokenize(sentence)\n",
        "print(tokens_)"
      ],
      "metadata": {
        "colab": {
          "base_uri": "https://localhost:8080/"
        },
        "id": "Q6Xscpg3g9QD",
        "outputId": "f0507c60-945e-4c5e-89a8-4a0de3f1bd60"
      },
      "execution_count": 37,
      "outputs": [
        {
          "output_type": "stream",
          "name": "stdout",
          "text": [
            "['Biological', 'Research', 'Labs', 'Dolphins', 'swim', 'by', 'moving', 'their', 'tail', 'fin', 'and', 'rear', 'body', 'vertically', 'while', 'their', 'flippers', 'are', 'mainly', 'used', 'for', 'steering', 'Some', 'species', 'log', 'out', 'of', 'the', 'water', 'which', 'may', 'allow', 'them', 'to', 'travel', 'faster', 'Their', 'skeletal', 'anatomy', 'allows', 'them', 'to', 'be', 'fast', 'swimmers', 'All', 'species', 'have', 'a', 'dorsal', 'fin', 'to', 'prevent', 'themselves', 'from', 'involuntarily', 'spinning', 'in', 'the', 'water', 'Some', 'dolphins', 'are', 'adapted', 'for', 'diving', 'to', 'great', 'depths', 'In', 'addition', 'to', 'their', 'streamlined', 'bodies', 'some', 'can', 'selectively', 'slow', 'their', 'heart', 'rate', 'to', 'conserve', 'oxygen', 'Some', 'can', 'also', 're', 'route', 'blood', 'from', 'tissue', 'tolerant', 'of', 'water', 'pressure', 'to', 'the', 'heart', 'brain', 'and', 'other', 'organs', 'Their', 'hemoglobin', 'and', 'myoglobin', 'store', 'oxygen', 'in', 'body', 'tissues', 'and', 'they', 'have', 'twice', 'the', 'concentration', 'of', 'myoglobin', 'than', 'hemoglobin', 'Sensory', 'The', 'dolphin', 'ear', 'has', 'specific', 'adaptations', 'to', 'the', 'marine', 'environment', 'In', 'humans', 'the', 'middle', 'ear', 'works', 'as', 'an', 'impedance', 'equalizer', 'between', 'the', 'outside', 'air', 's', 'low', 'impedance', 'and', 'the', 'cochlear', 'fluid', 's', 'high', 'impedance', 'In', 'dolphins', 'and', 'other', 'marine', 'mammals', 'there', 'is', 'no', 'great', 'difference', 'between', 'the', 'outer', 'and', 'inner', 'environments', 'Instead', 'of', 'sound', 'passing', 'through', 'the', 'outer', 'ear', 'to', 'the', 'middle', 'ear', 'dolphins', 'receive', 'sound', 'through', 'the', 'throat', 'from', 'which', 'it', 'passes', 'through', 'a', 'low', 'impedance', 'fat', 'filled', 'cavity', 'to', 'the', 'inner', 'ear', 'The', 'dolphin', 'ear', 'is', 'acoustically', 'isolated', 'from', 'the', 'skull', 'by', 'air', 'filled', 'sinus', 'pockets', 'which', 'allow', 'for', 'greater', 'directional', 'hearing', 'underwater', 'Dolphins', 'send', 'out', 'high', 'frequency', 'clicks', 'from', 'an', 'organ', 'known', 'as', 'a', 'melon', 'This', 'melon', 'consists', 'of', 'fat', 'and', 'the', 'skull', 'of', 'any', 'such', 'creature', 'containing', 'a', 'melon', 'will', 'have', 'a', 'large', 'depression', 'This', 'allows', 'dolphins', 'to', 'produce', 'biosonar', 'for', 'orientation', 'Though', 'most', 'dolphins', 'do', 'not', 'have', 'hair', 'they', 'do', 'have', 'hair', 'follicles', 'that', 'may', 'perform', 'some', 'sensory', 'function', 'Beyond', 'locating', 'an', 'object', 'echolocation', 'also', 'provides', 'the', 'animal', 'with', 'an', 'idea', 'on', 'an', 'object', 's', 'shape', 'and', 'size', 'though', 'how', 'exactly', 'this', 'works', 'is', 'not', 'yet', 'understood', 'The', 'small', 'hairs', 'on', 'the', 'rostrum', 'of', 'the', 'boto', 'are', 'believed', 'to', 'function', 'as', 'a', 'tactile', 'sense', 'possibly', 'to', 'compensate', 'for', 'the', 'boto', 's', 'poor', 'eyesight', 'The', 'dolphin', 'eye', 'is', 'relatively', 'small', 'for', 'its', 'size', 'yet', 'they', 'do', 'retain', 'a', 'good', 'degree', 'of', 'eyesight', 'As', 'well', 'as', 'this', 'the', 'eyes', 'of', 'a', 'dolphin', 'are', 'placed', 'on', 'the', 'sides', 'of', 'its', 'head', 'so', 'their', 'vision', 'consists', 'of', 'two', 'fields', 'rather', 'than', 'a', 'binocular', 'view', 'like', 'humans', 'have', 'When', 'dolphins', 'surface', 'their', 'lens', 'and', 'cornea', 'correct', 'the', 'nearsightedness', 'that', 'results', 'from', 'the', 'refraction', 'of', 'light', 'they', 'contain', 'both', 'rod', 'and', 'cone', 'cells', 'meaning', 'they', 'can', 'see', 'in', 'both', 'dim', 'and', 'bright', 'light', 'but', 'they', 'have', 'far', 'more', 'rod', 'cells', 'than', 'they', 'do', 'cone', 'cells', 'They', 'lack', 'short', 'wavelength', 'sensitive', 'visual', 'pigments', 'in', 'their', 'cone', 'cells', 'indicating', 'a', 'more', 'limited', 'capacity', 'for', 'color', 'vision', 'than', 'most', 'mammals', 'Most', 'dolphins', 'have', 'slightly', 'flattened', 'eyeballs', 'enlarged', 'pupils', 'which', 'shrink', 'as', 'they', 'surface', 'to', 'prevent', 'damage', 'slightly', 'flattened', 'corneas', 'and', 'a', 'tapetum', 'lucidum', 'these', 'adaptations', 'allow', 'for', 'large', 'amounts', 'of', 'light', 'to', 'pass', 'through', 'the', 'eye', 'and', 'therefore', 'a', 'very', 'clear', 'image', 'of', 'the', 'surrounding', 'area', 'They', 'also', 'have', 'glands', 'on', 'the', 'eyelids', 'and', 'outer', 'corneal', 'layer', 'that', 'act', 'as', 'protection', 'for', 'the', 'cornea', 'The', 'olfactory', 'lobes', 'and', 'nerve', 'are', 'absent', 'in', 'dolphins', 'suggesting', 'that', 'they', 'have', 'no', 'sense', 'of', 'smell', 'Dolphins', 'are', 'not', 'thought', 'to', 'have', 'a', 'good', 'sense', 'of', 'taste', 'as', 'their', 'taste', 'buds', 'are', 'atrophied', 'or', 'missing', 'altogether', 'The', 'pollution', 'produced', 'affects', 'biodiversity', 'climate', 'food', 'and', 'human', 'health', 'However', 'the', 'degree', 'to', 'which', 'humans', 'are', 'polluting', 'and', 'how', 'it', 'affects', 'the', 'world', 'is', 'highly', 'debated', 'and', 'has', 'been', 'a', 'hot', 'international', 'topic', 'for', 'the', 'past', '30', 'years', 'Oil', 'spills', 'Oil', 'spills', 'have', 'devastating', 'effects', 'on', 'the', 'environment', 'Crude', 'oil', 'contains', 'polycyclic', 'aromatic', 'hydrocarbons', 'PAHs', 'which', 'are', 'very', 'difficult', 'to', 'clean', 'up', 'and', 'last', 'for', 'years', 'in', 'the', 'sediment', 'and', 'marine', 'environment', 'Marine', 'species', 'constantly', 'exposed', 'to', 'PAHs', 'can', 'exhibit', 'developmental', 'problems', 'susceptibility', 'to', 'disease', 'and', 'abnormal', 'reproductive', 'cycles', 'By', 'the', 'sheer', 'amount', 'of', 'oil', 'carried', 'modern', 'oil', 'tankers', 'must', 'be', 'considered', 'something', 'of', 'a', 'threat', 'to', 'the', 'environment', 'An', 'oil', 'tanker', 'can', 'carry', '2', 'million', 'barrels', '318', '000', 'm3', 'of', 'crude', 'oil', 'or', '84', '000', '000', 'US', 'gallons', '69', '940', '000', 'imp', 'gal', '318', '000', '000', 'L', 'This', 'is', 'more', 'than', 'six', 'times', 'the', 'amount', 'spilled', 'in', 'the', 'widely', 'known', 'Page', '1', '3Biological', 'Research', 'Labs', 'Exxon', 'Valdez', 'incident', 'In', 'this', 'spill', 'the', 'ship', 'ran', 'aground', 'and', 'dumped', '10', '800', '000', 'US', 'gallons', '8', '993', '000', 'imp', 'gal', '40', '880', '000', 'L', 'of', 'oil', 'into', 'the', 'ocean', 'in', 'March', '1989', 'Despite', 'efforts', 'of', 'scientists', 'managers', 'and', 'volunteers', 'over', '400', '000', 'seabirds', 'about', '1', '000', 'sea', 'otters', 'and', 'immense', 'numbers', 'of', 'fish', 'were', 'killed', 'The', 'International', 'Tanker', 'Owners', 'Pollution', 'Federation', 'has', 'researched', '9', '351', 'accidental', 'spills', 'since', '1974', 'According', 'to', 'this', 'study', 'most', 'spills', 'result', 'from', 'routine', 'operations', 'such', 'as', 'loading', 'cargo', 'discharging', 'cargo', 'and', 'taking', 'on', 'fuel', 'oil', '91', 'of', 'the', 'operational', 'oil', 'spills', 'were', 'small', 'resulting', 'in', 'less', 'than', '7', 'tons', 'per', 'spill', 'Spills', 'resulting', 'from', 'accidents', 'like', 'collisions', 'groundings', 'hull', 'failures', 'and', 'explosions', 'are', 'much', 'larger', 'with', '84', 'of', 'these', 'involving', 'losses', 'of', 'over', '700', 'tons', 'Following', 'the', 'Exxon', 'Valdez', 'spill', 'the', 'United', 'States', 'passed', 'the', 'Oil', 'Pollution', 'Act', 'of', '1990', 'OPA', '90', 'which', 'included', 'a', 'stipulation', 'that', 'all', 'tankers', 'entering', 'its', 'waters', 'be', 'double', 'hulled', 'by', '2015', 'Following', 'the', 'sinkings', 'of', 'Erika', '1999', 'and', 'Prestige', '2002', 'the', 'European', 'Union', 'passed', 'its', 'own', 'stringent', 'anti', 'pollution', 'packages', 'known', 'as', 'Erika', 'I', 'II', 'and', 'III', 'which', 'require', 'all', 'tankers', 'entering', 'its', 'waters', 'to', 'be', 'double', 'hulled', 'by', '2010', 'The', 'Erika', 'packages', 'are', 'controversial', 'because', 'they', 'introduced', 'the', 'new', 'legal', 'concept', 'of', 'serious', 'negligence', 'Ballast', 'water', 'When', 'a', 'large', 'vessel', 'such', 'as', 'a', 'container', 'ship', 'or', 'an', 'oil', 'tanker', 'unloads', 'cargo', 'seawater', 'is', 'pumped', 'into', 'other', 'compartments', 'in', 'the', 'hull', 'to', 'help', 'stabilize', 'and', 'balance', 'the', 'ship', 'During', 'loading', 'this', 'ballast', 'water', 'is', 'pumped', 'out', 'from', 'these', 'compartments', 'One', 'of', 'the', 'problems', 'with', 'ballast', 'water', 'transfer', 'is', 'the', 'transport', 'of', 'harmful', 'organisms', 'Meinesz', 'believes', 'that', 'one', 'of', 'the', 'worst', 'cases', 'of', 'a', 'single', 'invasive', 'species', 'causing', 'harm', 'to', 'an', 'ecosystem', 'can', 'be', 'attributed', 'to', 'a', 'seemingly', 'harmless', 'planktonic', 'organism', 'Mnemiopsis', 'leidyi', 'a', 'species', 'of', 'comb', 'jelly', 'that', 'inhabits', 'estuaries', 'from', 'the', 'United', 'States', 'to', 'the', 'Vald', 'xe9s', 'peninsula', 'in', 'Argentina', 'along', 'the', 'Atlantic', 'coast', 'has', 'caused', 'notable', 'damage', 'in', 'the', 'Black', 'Sea', 'It', 'was', 'first', 'introduced', 'in', '1982', 'and', 'thought', 'to', 'have', 'been', 'transported', 'to', 'the', 'Black', 'Sea', 'in', 'a', 'ship', 's', 'ballast', 'water', 'The', 'population', 'of', 'the', 'comb', 'jelly', 'shot', 'up', 'exponentially', 'and', 'by', '1988', 'it', 'was', 'wreaking', 'havoc', 'upon', 'the', 'local', 'fishing', 'industry', 'The', 'anchovy', 'catch', 'fell', 'from', '204', '000', 'tonnes', '225', '000', 'short', 'tons', '201', '000', 'long', 'tons', 'in', '1984', 'to', '200', 'tonnes', '220', 'short', 'tons', '197', 'long', 'tons', 'in', '1993', 'sprat', 'from', '24', '600', 'tonnes', '27', '100', 'short', 'tons', '24', '200', 'long', 'tons', 'in', '1984', 'to', '12', '000', 'tonnes', '13', '200', 'short', 'tons', '11', '800', 'long', 'tons', 'in', '1993', 'horse', 'mackerel', 'from', '4', '000', 'tonnes', '4', '410', 'short', 'tons', '3', '940', 'long', 'tons', 'in', '1984', 'to', 'zero', 'in', '1993', 'Now', 'that', 'the', 'comb', 'jellies', 'have', 'exhausted', 'the', 'zooplankton', 'including', 'fish', 'larvae', 'their', 'numbers', 'have', 'fallen', 'dramatically', 'yet', 'they', 'continue', 'to', 'maintain', 'a', 'stranglehold', 'on', 'the', 'ecosystem', 'Water', 'moats', 'were', 'found', 'in', 'low', 'lying', 'areas', 'and', 'were', 'usually', 'crossed', 'by', 'a', 'drawbridge', 'although', 'these', 'were', 'often', 'replaced', 'by', 'stone', 'bridges', 'The', 'site', 'of', 'the', '13th', 'century', 'Caerphilly', 'Castle', 'in', 'Wales', 'covers', 'over', '30', 'acres', '12', 'ha', 'and', 'the', 'water', 'defences', 'created', 'by', 'flooding', 'the', 'valley', 'to', 'the', 'south', 'of', 'the', 'castle', 'are', 'some', 'of', 'the', 'largest', 'in', 'Western', 'Europe', 'Battlements', 'Battlements', 'were', 'most', 'often', 'found', 'surmounting', 'curtain', 'walls', 'and', 'the', 'tops', 'of', 'gatehouses', 'and', 'comprised', 'several', 'elements', 'crenellations', 'hoardings', 'machicolations', 'and', 'loopholes', 'Crenellation', 'is', 'the', 'collective', 'name', 'for', 'alternating', 'crenels', 'and', 'merlons', 'gaps', 'and', 'solid', 'blocks', 'on', 'top', 'of', 'a', 'wall', 'Hoardings', 'were', 'wooden', 'constructs', 'that', 'projected', 'beyond', 'the', 'wall', 'allowing', 'defenders', 'to', 'shoot', 'at', 'or', 'drop', 'objects', 'on', 'attackers', 'at', 'the', 'base', 'of', 'the', 'wall', 'without', 'having', 'to', 'lean', 'perilously', 'over', 'the', 'crenellations', 'thereby', 'exposing', 'themselves', 'to', 'retaliatory', 'fire', 'Machicolations', 'were', 'stone', 'projections', 'on', 'top', 'of', 'a', 'wall', 'with', 'openings', 'that', 'allowed', 'objects', 'to', 'be', 'dropped', 'on', 'an', 'enemy', 'at', 'the', 'base', 'of', 'the', 'wall', 'in', 'a', 'similar', 'fashion', 'to', 'hoardings', 'Arrowslits', 'Arrowslits', 'also', 'commonly', 'called', 'loopholes', 'were', 'narrow', 'vertical', 'openings', 'in', 'defensive', 'walls', 'which', 'allowed', 'Page', '2', '3Biological', 'Research', 'Labs', 'arrows', 'or', 'crossbow', 'bolts', 'to', 'be', 'fired', 'on', 'attackers', 'The', 'narrow', 'slits', 'were', 'intended', 'to', 'protect', 'the', 'defender', 'by', 'providing', 'a', 'very', 'small', 'target', 'but', 'the', 'size', 'of', 'the', 'opening', 'could', 'also', 'impede', 'the', 'defender', 'if', 'it', 'was', 'too', 'small', 'A', 'smaller', 'horizontal', 'opening', 'could', 'be', 'added', 'to', 'give', 'an', 'archer', 'a', 'better', 'view', 'for', 'aiming', 'Sometimes', 'a', 'sally', 'port', 'was', 'included', 'this', 'could', 'allow', 'the', 'garrison', 'to', 'leave', 'the', 'castle', 'and', 'engage', 'besieging', 'forces', 'It', 'was', 'usual', 'for', 'the', 'latrines', 'to', 'empty', 'down', 'the', 'external', 'walls', 'of', 'a', 'castle', 'and', 'into', 'the', 'surrounding', 'ditch', 'Postern', 'A', 'postern', 'is', 'a', 'secondary', 'door', 'or', 'gate', 'in', 'a', 'concealed', 'location', 'usually', 'in', 'a', 'fortification', 'such', 'as', 'a', 'city', 'wall', 'Great', 'hall', 'The', 'great', 'hall', 'was', 'a', 'large', 'decorated', 'room', 'where', 'a', 'lord', 'received', 'his', 'guests', 'The', 'hall', 'represented', 'the', 'prestige', 'authority', 'and', 'richness', 'of', 'the', 'lord', 'Events', 'such', 'as', 'feasts', 'banquets', 'social', 'or', 'ceremonial', 'gatherings', 'meetings', 'of', 'the', 'military', 'council', 'and', 'judicial', 'trials', 'were', 'held', 'in', 'the', 'great', 'hall', 'Sometimes', 'the', 'great', 'hall', 'existed', 'as', 'a', 'separate', 'building', 'in', 'that', 'case', 'it', 'was', 'called', 'a', 'hall', 'house', 'History', 'Antecedents', 'Historian', 'Charles', 'Coulson', 'states', 'that', 'the', 'accumulation', 'of', 'wealth', 'and', 'resources', 'such', 'as', 'food', 'led', 'to', 'the', 'need', 'for', 'defensive', 'structures', 'The', 'earliest', 'fortifications', 'originated', 'in', 'the', 'Fertile', 'Crescent', 'the', 'Indus', 'Valley', 'Egypt', 'and', 'China', 'where', 'settlements', 'were', 'protected', 'by', 'large', 'walls', 'Northern', 'Europe', 'was', 'slower', 'than', 'the', 'East', 'to', 'develop', 'defensive', 'structures', 'and', 'it', 'was', 'not', 'until', 'the', 'Bronze', 'Age', 'that', 'hill', 'forts', 'were', 'developed', 'which', 'then', 'proliferated', 'across', 'Europe', 'in', 'the', 'Iron', 'Age', 'These', 'structures', 'differed', 'from', 'their', 'eastern', 'counterparts', 'in', 'that', 'they', 'used', 'earthworks', 'rather', 'than', 'stone', 'as', 'a', 'building', 'material', 'Many', 'earthworks', 'survive', 'today', 'along', 'with', 'evidence', 'of', 'palisades', 'to', 'accompany', 'the', 'ditches', 'In', 'Europe', 'oppida', 'emerged', 'in', 'the', '2nd', 'century', 'BC', 'these', 'were', 'densely', 'inhabited', 'fortified', 'settlements', 'such', 'as', 'the', 'oppidum', 'of', 'Manching', 'and', 'developed', 'from', 'hill', 'forts', 'Page', '3', '3']\n"
          ]
        }
      ]
    },
    {
      "cell_type": "markdown",
      "source": [
        "**We can observe from above that RegexpTokenizer does a better job in removing the punctuation. Thus, we will be using the same.**\n",
        "\n",
        "We will now remove the stop words."
      ],
      "metadata": {
        "id": "SzvuSccphLKu"
      }
    },
    {
      "cell_type": "code",
      "source": [
        "len(tokens_)"
      ],
      "metadata": {
        "colab": {
          "base_uri": "https://localhost:8080/"
        },
        "id": "XSnvEbfxkZkf",
        "outputId": "8ba2cdd4-5e97-4de2-a6d7-59e98f1a2453"
      },
      "execution_count": 28,
      "outputs": [
        {
          "output_type": "execute_result",
          "data": {
            "text/plain": [
              "1720"
            ]
          },
          "metadata": {},
          "execution_count": 28
        }
      ]
    },
    {
      "cell_type": "code",
      "source": [
        "tokens_noStopWords = [word for word in tokens_ if word not in stopwords.words('english')]\n",
        "tokens_noStopWords"
      ],
      "metadata": {
        "id": "hGxbgCKJklJ2"
      },
      "execution_count": null,
      "outputs": []
    },
    {
      "cell_type": "code",
      "source": [
        "len(tokens_noStopWords)\n",
        "#We can see there is drastic reduction in the count of words in the sentence"
      ],
      "metadata": {
        "colab": {
          "base_uri": "https://localhost:8080/"
        },
        "id": "YoKZM5NRlhOU",
        "outputId": "b4d9239d-66c6-4e97-fad4-587725ffb2e9"
      },
      "execution_count": 33,
      "outputs": [
        {
          "output_type": "execute_result",
          "data": {
            "text/plain": [
              "1071"
            ]
          },
          "metadata": {},
          "execution_count": 33
        }
      ]
    },
    {
      "cell_type": "markdown",
      "source": [
        "We shall now choose between Lemmatization or stemming the word tokens."
      ],
      "metadata": {
        "id": "DobSa6dNmXyW"
      }
    },
    {
      "cell_type": "code",
      "source": [
        "#Stemming using Porter Stemmer\n",
        "\n",
        "stemmer=PorterStemmer()\n",
        "stemmed_output= ' '.join([stemmer.stem(w) for w in tokens_noStopWords])\n",
        "print(stemmed_output)"
      ],
      "metadata": {
        "colab": {
          "base_uri": "https://localhost:8080/"
        },
        "id": "zQhESmRfhDRI",
        "outputId": "bed31b79-d04c-4c2f-f221-308fa4d9c16a"
      },
      "execution_count": 35,
      "outputs": [
        {
          "output_type": "stream",
          "name": "stdout",
          "text": [
            "biolog research lab dolphin swim move tail fin rear bodi vertic flipper mainli use steer some speci log water may allow travel faster their skelet anatomi allow fast swimmer all speci dorsal fin prevent involuntarili spin water some dolphin adapt dive great depth in addit streamlin bodi select slow heart rate conserv oxygen some also rout blood tissu toler water pressur heart brain organ their hemoglobin myoglobin store oxygen bodi tissu twice concentr myoglobin hemoglobin sensori the dolphin ear specif adapt marin environ in human middl ear work imped equal outsid air low imped cochlear fluid high imped in dolphin marin mammal great differ outer inner environ instead sound pass outer ear middl ear dolphin receiv sound throat pass low imped fat fill caviti inner ear the dolphin ear acoust isol skull air fill sinu pocket allow greater direct hear underwat dolphin send high frequenc click organ known melon thi melon consist fat skull creatur contain melon larg depress thi allow dolphin produc biosonar orient though dolphin hair hair follicl may perform sensori function beyond locat object echoloc also provid anim idea object shape size though exactli work yet understood the small hair rostrum boto believ function tactil sens possibl compens boto poor eyesight the dolphin eye rel small size yet retain good degre eyesight as well eye dolphin place side head vision consist two field rather binocular view like human when dolphin surfac len cornea correct nearsighted result refract light contain rod cone cell mean see dim bright light far rod cell cone cell they lack short wavelength sensit visual pigment cone cell indic limit capac color vision mammal most dolphin slightli flatten eyebal enlarg pupil shrink surfac prevent damag slightli flatten cornea tapetum lucidum adapt allow larg amount light pass eye therefor clear imag surround area they also gland eyelid outer corneal layer act protect cornea the olfactori lobe nerv absent dolphin suggest sens smell dolphin thought good sens tast tast bud atrophi miss altogeth the pollut produc affect biodivers climat food human health howev degre human pollut affect world highli debat hot intern topic past 30 year oil spill oil spill devast effect environ crude oil contain polycycl aromat hydrocarbon pah difficult clean last year sediment marin environ marin speci constantli expos pah exhibit development problem suscept diseas abnorm reproduct cycl by sheer amount oil carri modern oil tanker must consid someth threat environ an oil tanker carri 2 million barrel 318 000 m3 crude oil 84 000 000 us gallon 69 940 000 imp gal 318 000 000 l thi six time amount spill wide known page 1 3biolog research lab exxon valdez incid in spill ship ran aground dump 10 800 000 us gallon 8 993 000 imp gal 40 880 000 l oil ocean march 1989 despit effort scientist manag volunt 400 000 seabird 1 000 sea otter immens number fish kill the intern tanker owner pollut feder research 9 351 accident spill sinc 1974 accord studi spill result routin oper load cargo discharg cargo take fuel oil 91 oper oil spill small result less 7 ton per spill spill result accid like collis ground hull failur explos much larger 84 involv loss 700 ton follow exxon valdez spill unit state pass oil pollut act 1990 opa 90 includ stipul tanker enter water doubl hull 2015 follow sink erika 1999 prestig 2002 european union pass stringent anti pollut packag known erika i ii iii requir tanker enter water doubl hull 2010 the erika packag controversi introduc new legal concept seriou neglig ballast water when larg vessel contain ship oil tanker unload cargo seawat pump compart hull help stabil balanc ship dure load ballast water pump compart one problem ballast water transfer transport harm organ meinesz believ one worst case singl invas speci caus harm ecosystem attribut seemingli harmless plankton organ mnemiopsi leidyi speci comb jelli inhabit estuari unit state vald xe9 peninsula argentina along atlant coast caus notabl damag black sea it first introduc 1982 thought transport black sea ship ballast water the popul comb jelli shot exponenti 1988 wreak havoc upon local fish industri the anchovi catch fell 204 000 tonn 225 000 short ton 201 000 long ton 1984 200 tonn 220 short ton 197 long ton 1993 sprat 24 600 tonn 27 100 short ton 24 200 long ton 1984 12 000 tonn 13 200 short ton 11 800 long ton 1993 hors mackerel 4 000 tonn 4 410 short ton 3 940 long ton 1984 zero 1993 now comb jelli exhaust zooplankton includ fish larva number fallen dramat yet continu maintain stranglehold ecosystem water moat found low lie area usual cross drawbridg although often replac stone bridg the site 13th centuri caerphilli castl wale cover 30 acr 12 ha water defenc creat flood valley south castl largest western europ battlement battlement often found surmount curtain wall top gatehous compris sever element crenel hoard machicol loophol crenel collect name altern crenel merlon gap solid block top wall hoard wooden construct project beyond wall allow defend shoot drop object attack base wall without lean peril crenel therebi expos retaliatori fire machicol stone project top wall open allow object drop enemi base wall similar fashion hoard arrowslit arrowslit also commonli call loophol narrow vertic open defens wall allow page 2 3biolog research lab arrow crossbow bolt fire attack the narrow slit intend protect defend provid small target size open could also imped defend small a smaller horizont open could ad give archer better view aim sometim salli port includ could allow garrison leav castl engag besieg forc it usual latrin empti extern wall castl surround ditch postern a postern secondari door gate conceal locat usual fortif citi wall great hall the great hall larg decor room lord receiv guest the hall repres prestig author rich lord event feast banquet social ceremoni gather meet militari council judici trial held great hall sometim great hall exist separ build case call hall hous histori anteced historian charl coulson state accumul wealth resourc food led need defens structur the earliest fortif origin fertil crescent indu valley egypt china settlement protect larg wall northern europ slower east develop defens structur bronz age hill fort develop prolifer across europ iron age these structur differ eastern counterpart use earthwork rather stone build materi mani earthwork surviv today along evid palisad accompani ditch in europ oppida emerg 2nd centuri bc dens inhabit fortifi settlement oppidum manch develop hill fort page 3 3\n"
          ]
        }
      ]
    },
    {
      "cell_type": "code",
      "source": [
        "#Lemmatizing using Wordnet Lemmatizer\n",
        "\n",
        "lemmatizer = WordNetLemmatizer()\n",
        "lemmatized_output = ' '.join([lemmatizer.lemmatize(w) for w in tokens_noStopWords])\n",
        "print(lemmatized_output)"
      ],
      "metadata": {
        "colab": {
          "base_uri": "https://localhost:8080/"
        },
        "id": "6v3aR3RWiCbF",
        "outputId": "43acda9a-aeb4-4ce3-80b0-fb562a1395e7"
      },
      "execution_count": 36,
      "outputs": [
        {
          "output_type": "stream",
          "name": "stdout",
          "text": [
            "Biological Research Labs Dolphins swim moving tail fin rear body vertically flipper mainly used steering Some specie log water may allow travel faster Their skeletal anatomy allows fast swimmer All specie dorsal fin prevent involuntarily spinning water Some dolphin adapted diving great depth In addition streamlined body selectively slow heart rate conserve oxygen Some also route blood tissue tolerant water pressure heart brain organ Their hemoglobin myoglobin store oxygen body tissue twice concentration myoglobin hemoglobin Sensory The dolphin ear specific adaptation marine environment In human middle ear work impedance equalizer outside air low impedance cochlear fluid high impedance In dolphin marine mammal great difference outer inner environment Instead sound passing outer ear middle ear dolphin receive sound throat pass low impedance fat filled cavity inner ear The dolphin ear acoustically isolated skull air filled sinus pocket allow greater directional hearing underwater Dolphins send high frequency click organ known melon This melon consists fat skull creature containing melon large depression This allows dolphin produce biosonar orientation Though dolphin hair hair follicle may perform sensory function Beyond locating object echolocation also provides animal idea object shape size though exactly work yet understood The small hair rostrum boto believed function tactile sense possibly compensate boto poor eyesight The dolphin eye relatively small size yet retain good degree eyesight As well eye dolphin placed side head vision consists two field rather binocular view like human When dolphin surface lens cornea correct nearsightedness result refraction light contain rod cone cell meaning see dim bright light far rod cell cone cell They lack short wavelength sensitive visual pigment cone cell indicating limited capacity color vision mammal Most dolphin slightly flattened eyeball enlarged pupil shrink surface prevent damage slightly flattened cornea tapetum lucidum adaptation allow large amount light pas eye therefore clear image surrounding area They also gland eyelid outer corneal layer act protection cornea The olfactory lobe nerve absent dolphin suggesting sense smell Dolphins thought good sense taste taste bud atrophied missing altogether The pollution produced affect biodiversity climate food human health However degree human polluting affect world highly debated hot international topic past 30 year Oil spill Oil spill devastating effect environment Crude oil contains polycyclic aromatic hydrocarbon PAHs difficult clean last year sediment marine environment Marine specie constantly exposed PAHs exhibit developmental problem susceptibility disease abnormal reproductive cycle By sheer amount oil carried modern oil tanker must considered something threat environment An oil tanker carry 2 million barrel 318 000 m3 crude oil 84 000 000 US gallon 69 940 000 imp gal 318 000 000 L This six time amount spilled widely known Page 1 3Biological Research Labs Exxon Valdez incident In spill ship ran aground dumped 10 800 000 US gallon 8 993 000 imp gal 40 880 000 L oil ocean March 1989 Despite effort scientist manager volunteer 400 000 seabird 1 000 sea otter immense number fish killed The International Tanker Owners Pollution Federation researched 9 351 accidental spill since 1974 According study spill result routine operation loading cargo discharging cargo taking fuel oil 91 operational oil spill small resulting le 7 ton per spill Spills resulting accident like collision grounding hull failure explosion much larger 84 involving loss 700 ton Following Exxon Valdez spill United States passed Oil Pollution Act 1990 OPA 90 included stipulation tanker entering water double hulled 2015 Following sinking Erika 1999 Prestige 2002 European Union passed stringent anti pollution package known Erika I II III require tanker entering water double hulled 2010 The Erika package controversial introduced new legal concept serious negligence Ballast water When large vessel container ship oil tanker unloads cargo seawater pumped compartment hull help stabilize balance ship During loading ballast water pumped compartment One problem ballast water transfer transport harmful organism Meinesz belief one worst case single invasive specie causing harm ecosystem attributed seemingly harmless planktonic organism Mnemiopsis leidyi specie comb jelly inhabits estuary United States Vald xe9s peninsula Argentina along Atlantic coast caused notable damage Black Sea It first introduced 1982 thought transported Black Sea ship ballast water The population comb jelly shot exponentially 1988 wreaking havoc upon local fishing industry The anchovy catch fell 204 000 tonne 225 000 short ton 201 000 long ton 1984 200 tonne 220 short ton 197 long ton 1993 sprat 24 600 tonne 27 100 short ton 24 200 long ton 1984 12 000 tonne 13 200 short ton 11 800 long ton 1993 horse mackerel 4 000 tonne 4 410 short ton 3 940 long ton 1984 zero 1993 Now comb jelly exhausted zooplankton including fish larva number fallen dramatically yet continue maintain stranglehold ecosystem Water moat found low lying area usually crossed drawbridge although often replaced stone bridge The site 13th century Caerphilly Castle Wales cover 30 acre 12 ha water defence created flooding valley south castle largest Western Europe Battlements Battlements often found surmounting curtain wall top gatehouse comprised several element crenellation hoarding machicolation loophole Crenellation collective name alternating crenel merlon gap solid block top wall Hoardings wooden construct projected beyond wall allowing defender shoot drop object attacker base wall without lean perilously crenellation thereby exposing retaliatory fire Machicolations stone projection top wall opening allowed object dropped enemy base wall similar fashion hoarding Arrowslits Arrowslits also commonly called loophole narrow vertical opening defensive wall allowed Page 2 3Biological Research Labs arrow crossbow bolt fired attacker The narrow slit intended protect defender providing small target size opening could also impede defender small A smaller horizontal opening could added give archer better view aiming Sometimes sally port included could allow garrison leave castle engage besieging force It usual latrine empty external wall castle surrounding ditch Postern A postern secondary door gate concealed location usually fortification city wall Great hall The great hall large decorated room lord received guest The hall represented prestige authority richness lord Events feast banquet social ceremonial gathering meeting military council judicial trial held great hall Sometimes great hall existed separate building case called hall house History Antecedents Historian Charles Coulson state accumulation wealth resource food led need defensive structure The earliest fortification originated Fertile Crescent Indus Valley Egypt China settlement protected large wall Northern Europe slower East develop defensive structure Bronze Age hill fort developed proliferated across Europe Iron Age These structure differed eastern counterpart used earthwork rather stone building material Many earthwork survive today along evidence palisade accompany ditch In Europe oppida emerged 2nd century BC densely inhabited fortified settlement oppidum Manching developed hill fort Page 3 3\n"
          ]
        }
      ]
    },
    {
      "cell_type": "markdown",
      "source": [
        "Stemming removes most of the information and converts the words into crude base form. The results doesn't look promising. While Lemmatization keeps the meaning of the phrase intact while also helping in reducing the words to its base format."
      ],
      "metadata": {
        "id": "DdogtTnOi1It"
      }
    },
    {
      "cell_type": "markdown",
      "source": [
        "From the above observations it is clear, we will use the below for data normalization and cleaning:\n",
        "\n",
        "1.   RegexpTokenizer\n",
        "2.   Removing StopWords\n",
        "3.   Wordnet Lemmatization\n",
        "\n"
      ],
      "metadata": {
        "id": "5pDHSMQTjsKv"
      }
    },
    {
      "cell_type": "code",
      "source": [
        "def get_clean_data(df):\n",
        "\n",
        "  df_preprocess=pd.DataFrame(df['content'])\n",
        "  df_preprocess['clean_data']=''\n",
        "  for i in range(df.shape[0]):\n",
        "    tokens_= regex_tokenizer.tokenize(df['content'][i])\n",
        "    tokens_noStopWords = [word for word in tokens_ if word not in stopwords.words('english')]\n",
        "    lemmatized_output = ' '.join([lemmatizer.lemmatize(w) for w in tokens_noStopWords])\n",
        "    df_preprocess['clean_data'][i]=lemmatized_output\n",
        "\n",
        "  return df_preprocess['clean_data']\n",
        "\n"
      ],
      "metadata": {
        "id": "Rsk3NFHZjDj7"
      },
      "execution_count": 38,
      "outputs": []
    },
    {
      "cell_type": "code",
      "source": [
        "#Getting the clean data for x_train and x_eval dataset\n",
        "\n",
        "x_train['doc_data']=get_clean_data(x_train)\n",
        "x_train.head()"
      ],
      "metadata": {
        "colab": {
          "base_uri": "https://localhost:8080/",
          "height": 206
        },
        "id": "r6S5lVQnnZxy",
        "outputId": "a4a248ca-3a5a-455b-f435-04ea0492df31"
      },
      "execution_count": 39,
      "outputs": [
        {
          "output_type": "execute_result",
          "data": {
            "text/plain": [
              "   File_ID Is_Mixedup           Topic  \\\n",
              "0  0x22a37         NO  Animal Species   \n",
              "1  0x23e80         NO  Animal Species   \n",
              "2  0x2354e         NO   Plant Species   \n",
              "3  0x23845        YES  Not Applicable   \n",
              "4  0x2198b         NO  Animal Species   \n",
              "\n",
              "                                             content  \\\n",
              "0  Biological Research Labs\\n Dolphins swim by mo...   \n",
              "1  Biological Research Labs\\nCuckoos are birds in...   \n",
              "2  Biological Research Labs\\n  Dole ceased its ca...   \n",
              "3  Biological Research Labs\\nIt mostly inhabits r...   \n",
              "4  Biological Research Labs\\n of Animal Science, ...   \n",
              "\n",
              "                                            doc_data  \n",
              "0  Biological Research Labs Dolphins swim moving ...  \n",
              "1  Biological Research Labs Cuckoos bird Cuculida...  \n",
              "2  Biological Research Labs Dole ceased cannery o...  \n",
              "3  Biological Research Labs It mostly inhabits re...  \n",
              "4  Biological Research Labs Animal Science archiv...  "
            ],
            "text/html": [
              "\n",
              "\n",
              "  <div id=\"df-8018036c-7851-47dd-8e3d-5c515effdcc6\">\n",
              "    <div class=\"colab-df-container\">\n",
              "      <div>\n",
              "<style scoped>\n",
              "    .dataframe tbody tr th:only-of-type {\n",
              "        vertical-align: middle;\n",
              "    }\n",
              "\n",
              "    .dataframe tbody tr th {\n",
              "        vertical-align: top;\n",
              "    }\n",
              "\n",
              "    .dataframe thead th {\n",
              "        text-align: right;\n",
              "    }\n",
              "</style>\n",
              "<table border=\"1\" class=\"dataframe\">\n",
              "  <thead>\n",
              "    <tr style=\"text-align: right;\">\n",
              "      <th></th>\n",
              "      <th>File_ID</th>\n",
              "      <th>Is_Mixedup</th>\n",
              "      <th>Topic</th>\n",
              "      <th>content</th>\n",
              "      <th>doc_data</th>\n",
              "    </tr>\n",
              "  </thead>\n",
              "  <tbody>\n",
              "    <tr>\n",
              "      <th>0</th>\n",
              "      <td>0x22a37</td>\n",
              "      <td>NO</td>\n",
              "      <td>Animal Species</td>\n",
              "      <td>Biological Research Labs\\n Dolphins swim by mo...</td>\n",
              "      <td>Biological Research Labs Dolphins swim moving ...</td>\n",
              "    </tr>\n",
              "    <tr>\n",
              "      <th>1</th>\n",
              "      <td>0x23e80</td>\n",
              "      <td>NO</td>\n",
              "      <td>Animal Species</td>\n",
              "      <td>Biological Research Labs\\nCuckoos are birds in...</td>\n",
              "      <td>Biological Research Labs Cuckoos bird Cuculida...</td>\n",
              "    </tr>\n",
              "    <tr>\n",
              "      <th>2</th>\n",
              "      <td>0x2354e</td>\n",
              "      <td>NO</td>\n",
              "      <td>Plant Species</td>\n",
              "      <td>Biological Research Labs\\n  Dole ceased its ca...</td>\n",
              "      <td>Biological Research Labs Dole ceased cannery o...</td>\n",
              "    </tr>\n",
              "    <tr>\n",
              "      <th>3</th>\n",
              "      <td>0x23845</td>\n",
              "      <td>YES</td>\n",
              "      <td>Not Applicable</td>\n",
              "      <td>Biological Research Labs\\nIt mostly inhabits r...</td>\n",
              "      <td>Biological Research Labs It mostly inhabits re...</td>\n",
              "    </tr>\n",
              "    <tr>\n",
              "      <th>4</th>\n",
              "      <td>0x2198b</td>\n",
              "      <td>NO</td>\n",
              "      <td>Animal Species</td>\n",
              "      <td>Biological Research Labs\\n of Animal Science, ...</td>\n",
              "      <td>Biological Research Labs Animal Science archiv...</td>\n",
              "    </tr>\n",
              "  </tbody>\n",
              "</table>\n",
              "</div>\n",
              "      <button class=\"colab-df-convert\" onclick=\"convertToInteractive('df-8018036c-7851-47dd-8e3d-5c515effdcc6')\"\n",
              "              title=\"Convert this dataframe to an interactive table.\"\n",
              "              style=\"display:none;\">\n",
              "\n",
              "  <svg xmlns=\"http://www.w3.org/2000/svg\" height=\"24px\"viewBox=\"0 0 24 24\"\n",
              "       width=\"24px\">\n",
              "    <path d=\"M0 0h24v24H0V0z\" fill=\"none\"/>\n",
              "    <path d=\"M18.56 5.44l.94 2.06.94-2.06 2.06-.94-2.06-.94-.94-2.06-.94 2.06-2.06.94zm-11 1L8.5 8.5l.94-2.06 2.06-.94-2.06-.94L8.5 2.5l-.94 2.06-2.06.94zm10 10l.94 2.06.94-2.06 2.06-.94-2.06-.94-.94-2.06-.94 2.06-2.06.94z\"/><path d=\"M17.41 7.96l-1.37-1.37c-.4-.4-.92-.59-1.43-.59-.52 0-1.04.2-1.43.59L10.3 9.45l-7.72 7.72c-.78.78-.78 2.05 0 2.83L4 21.41c.39.39.9.59 1.41.59.51 0 1.02-.2 1.41-.59l7.78-7.78 2.81-2.81c.8-.78.8-2.07 0-2.86zM5.41 20L4 18.59l7.72-7.72 1.47 1.35L5.41 20z\"/>\n",
              "  </svg>\n",
              "      </button>\n",
              "\n",
              "\n",
              "\n",
              "    <div id=\"df-1dbd67c8-8062-4776-bb71-30be393bef1a\">\n",
              "      <button class=\"colab-df-quickchart\" onclick=\"quickchart('df-1dbd67c8-8062-4776-bb71-30be393bef1a')\"\n",
              "              title=\"Suggest charts.\"\n",
              "              style=\"display:none;\">\n",
              "\n",
              "<svg xmlns=\"http://www.w3.org/2000/svg\" height=\"24px\"viewBox=\"0 0 24 24\"\n",
              "     width=\"24px\">\n",
              "    <g>\n",
              "        <path d=\"M19 3H5c-1.1 0-2 .9-2 2v14c0 1.1.9 2 2 2h14c1.1 0 2-.9 2-2V5c0-1.1-.9-2-2-2zM9 17H7v-7h2v7zm4 0h-2V7h2v10zm4 0h-2v-4h2v4z\"/>\n",
              "    </g>\n",
              "</svg>\n",
              "      </button>\n",
              "    </div>\n",
              "\n",
              "<style>\n",
              "  .colab-df-quickchart {\n",
              "    background-color: #E8F0FE;\n",
              "    border: none;\n",
              "    border-radius: 50%;\n",
              "    cursor: pointer;\n",
              "    display: none;\n",
              "    fill: #1967D2;\n",
              "    height: 32px;\n",
              "    padding: 0 0 0 0;\n",
              "    width: 32px;\n",
              "  }\n",
              "\n",
              "  .colab-df-quickchart:hover {\n",
              "    background-color: #E2EBFA;\n",
              "    box-shadow: 0px 1px 2px rgba(60, 64, 67, 0.3), 0px 1px 3px 1px rgba(60, 64, 67, 0.15);\n",
              "    fill: #174EA6;\n",
              "  }\n",
              "\n",
              "  [theme=dark] .colab-df-quickchart {\n",
              "    background-color: #3B4455;\n",
              "    fill: #D2E3FC;\n",
              "  }\n",
              "\n",
              "  [theme=dark] .colab-df-quickchart:hover {\n",
              "    background-color: #434B5C;\n",
              "    box-shadow: 0px 1px 3px 1px rgba(0, 0, 0, 0.15);\n",
              "    filter: drop-shadow(0px 1px 2px rgba(0, 0, 0, 0.3));\n",
              "    fill: #FFFFFF;\n",
              "  }\n",
              "</style>\n",
              "\n",
              "    <script>\n",
              "      async function quickchart(key) {\n",
              "        const containerElement = document.querySelector('#' + key);\n",
              "        const charts = await google.colab.kernel.invokeFunction(\n",
              "            'suggestCharts', [key], {});\n",
              "      }\n",
              "    </script>\n",
              "\n",
              "      <script>\n",
              "\n",
              "function displayQuickchartButton(domScope) {\n",
              "  let quickchartButtonEl =\n",
              "    domScope.querySelector('#df-1dbd67c8-8062-4776-bb71-30be393bef1a button.colab-df-quickchart');\n",
              "  quickchartButtonEl.style.display =\n",
              "    google.colab.kernel.accessAllowed ? 'block' : 'none';\n",
              "}\n",
              "\n",
              "        displayQuickchartButton(document);\n",
              "      </script>\n",
              "      <style>\n",
              "    .colab-df-container {\n",
              "      display:flex;\n",
              "      flex-wrap:wrap;\n",
              "      gap: 12px;\n",
              "    }\n",
              "\n",
              "    .colab-df-convert {\n",
              "      background-color: #E8F0FE;\n",
              "      border: none;\n",
              "      border-radius: 50%;\n",
              "      cursor: pointer;\n",
              "      display: none;\n",
              "      fill: #1967D2;\n",
              "      height: 32px;\n",
              "      padding: 0 0 0 0;\n",
              "      width: 32px;\n",
              "    }\n",
              "\n",
              "    .colab-df-convert:hover {\n",
              "      background-color: #E2EBFA;\n",
              "      box-shadow: 0px 1px 2px rgba(60, 64, 67, 0.3), 0px 1px 3px 1px rgba(60, 64, 67, 0.15);\n",
              "      fill: #174EA6;\n",
              "    }\n",
              "\n",
              "    [theme=dark] .colab-df-convert {\n",
              "      background-color: #3B4455;\n",
              "      fill: #D2E3FC;\n",
              "    }\n",
              "\n",
              "    [theme=dark] .colab-df-convert:hover {\n",
              "      background-color: #434B5C;\n",
              "      box-shadow: 0px 1px 3px 1px rgba(0, 0, 0, 0.15);\n",
              "      filter: drop-shadow(0px 1px 2px rgba(0, 0, 0, 0.3));\n",
              "      fill: #FFFFFF;\n",
              "    }\n",
              "  </style>\n",
              "\n",
              "      <script>\n",
              "        const buttonEl =\n",
              "          document.querySelector('#df-8018036c-7851-47dd-8e3d-5c515effdcc6 button.colab-df-convert');\n",
              "        buttonEl.style.display =\n",
              "          google.colab.kernel.accessAllowed ? 'block' : 'none';\n",
              "\n",
              "        async function convertToInteractive(key) {\n",
              "          const element = document.querySelector('#df-8018036c-7851-47dd-8e3d-5c515effdcc6');\n",
              "          const dataTable =\n",
              "            await google.colab.kernel.invokeFunction('convertToInteractive',\n",
              "                                                     [key], {});\n",
              "          if (!dataTable) return;\n",
              "\n",
              "          const docLinkHtml = 'Like what you see? Visit the ' +\n",
              "            '<a target=\"_blank\" href=https://colab.research.google.com/notebooks/data_table.ipynb>data table notebook</a>'\n",
              "            + ' to learn more about interactive tables.';\n",
              "          element.innerHTML = '';\n",
              "          dataTable['output_type'] = 'display_data';\n",
              "          await google.colab.output.renderOutput(dataTable, element);\n",
              "          const docLink = document.createElement('div');\n",
              "          docLink.innerHTML = docLinkHtml;\n",
              "          element.appendChild(docLink);\n",
              "        }\n",
              "      </script>\n",
              "    </div>\n",
              "  </div>\n"
            ]
          },
          "metadata": {},
          "execution_count": 39
        }
      ]
    },
    {
      "cell_type": "code",
      "source": [
        "x_eval['doc_data']=get_clean_data(x_eval)\n",
        "x_eval.head()"
      ],
      "metadata": {
        "colab": {
          "base_uri": "https://localhost:8080/",
          "height": 206
        },
        "id": "Ie41-8Qqneh8",
        "outputId": "a87cfa32-2866-4705-87fc-a22129527678"
      },
      "execution_count": 40,
      "outputs": [
        {
          "output_type": "execute_result",
          "data": {
            "text/plain": [
              "   File_ID Is_Mixedup           Topic  \\\n",
              "0  0x214f1         NO  Animal Species   \n",
              "1  0x220ed         NO  Animal Species   \n",
              "2  0x210cd         NO  Animal Species   \n",
              "3  0x212b4         NO  Animal Species   \n",
              "4  0x20cb0        YES  Not Applicable   \n",
              "\n",
              "                                             content  \\\n",
              "0  Biological Research Labs\\nToday there are only...   \n",
              "1  Biological Research Labs\\n They still needed t...   \n",
              "2  Biological Research Labs\\nPoaceae () or Gramin...   \n",
              "3  Biological Research Labs\\n The fancy rat and w...   \n",
              "4  Biological Research Labs\\nHummingbirds are bir...   \n",
              "\n",
              "                                            doc_data  \n",
              "0  Biological Research Labs Today two living spec...  \n",
              "1  Biological Research Labs They still needed ret...  \n",
              "2  Biological Research Labs Poaceae Gramineae lar...  \n",
              "3  Biological Research Labs The fancy rat wild ra...  \n",
              "4  Biological Research Labs Hummingbirds bird nat...  "
            ],
            "text/html": [
              "\n",
              "\n",
              "  <div id=\"df-f77d7400-00eb-4174-a9f7-dc7c8bcc5c9e\">\n",
              "    <div class=\"colab-df-container\">\n",
              "      <div>\n",
              "<style scoped>\n",
              "    .dataframe tbody tr th:only-of-type {\n",
              "        vertical-align: middle;\n",
              "    }\n",
              "\n",
              "    .dataframe tbody tr th {\n",
              "        vertical-align: top;\n",
              "    }\n",
              "\n",
              "    .dataframe thead th {\n",
              "        text-align: right;\n",
              "    }\n",
              "</style>\n",
              "<table border=\"1\" class=\"dataframe\">\n",
              "  <thead>\n",
              "    <tr style=\"text-align: right;\">\n",
              "      <th></th>\n",
              "      <th>File_ID</th>\n",
              "      <th>Is_Mixedup</th>\n",
              "      <th>Topic</th>\n",
              "      <th>content</th>\n",
              "      <th>doc_data</th>\n",
              "    </tr>\n",
              "  </thead>\n",
              "  <tbody>\n",
              "    <tr>\n",
              "      <th>0</th>\n",
              "      <td>0x214f1</td>\n",
              "      <td>NO</td>\n",
              "      <td>Animal Species</td>\n",
              "      <td>Biological Research Labs\\nToday there are only...</td>\n",
              "      <td>Biological Research Labs Today two living spec...</td>\n",
              "    </tr>\n",
              "    <tr>\n",
              "      <th>1</th>\n",
              "      <td>0x220ed</td>\n",
              "      <td>NO</td>\n",
              "      <td>Animal Species</td>\n",
              "      <td>Biological Research Labs\\n They still needed t...</td>\n",
              "      <td>Biological Research Labs They still needed ret...</td>\n",
              "    </tr>\n",
              "    <tr>\n",
              "      <th>2</th>\n",
              "      <td>0x210cd</td>\n",
              "      <td>NO</td>\n",
              "      <td>Animal Species</td>\n",
              "      <td>Biological Research Labs\\nPoaceae () or Gramin...</td>\n",
              "      <td>Biological Research Labs Poaceae Gramineae lar...</td>\n",
              "    </tr>\n",
              "    <tr>\n",
              "      <th>3</th>\n",
              "      <td>0x212b4</td>\n",
              "      <td>NO</td>\n",
              "      <td>Animal Species</td>\n",
              "      <td>Biological Research Labs\\n The fancy rat and w...</td>\n",
              "      <td>Biological Research Labs The fancy rat wild ra...</td>\n",
              "    </tr>\n",
              "    <tr>\n",
              "      <th>4</th>\n",
              "      <td>0x20cb0</td>\n",
              "      <td>YES</td>\n",
              "      <td>Not Applicable</td>\n",
              "      <td>Biological Research Labs\\nHummingbirds are bir...</td>\n",
              "      <td>Biological Research Labs Hummingbirds bird nat...</td>\n",
              "    </tr>\n",
              "  </tbody>\n",
              "</table>\n",
              "</div>\n",
              "      <button class=\"colab-df-convert\" onclick=\"convertToInteractive('df-f77d7400-00eb-4174-a9f7-dc7c8bcc5c9e')\"\n",
              "              title=\"Convert this dataframe to an interactive table.\"\n",
              "              style=\"display:none;\">\n",
              "\n",
              "  <svg xmlns=\"http://www.w3.org/2000/svg\" height=\"24px\"viewBox=\"0 0 24 24\"\n",
              "       width=\"24px\">\n",
              "    <path d=\"M0 0h24v24H0V0z\" fill=\"none\"/>\n",
              "    <path d=\"M18.56 5.44l.94 2.06.94-2.06 2.06-.94-2.06-.94-.94-2.06-.94 2.06-2.06.94zm-11 1L8.5 8.5l.94-2.06 2.06-.94-2.06-.94L8.5 2.5l-.94 2.06-2.06.94zm10 10l.94 2.06.94-2.06 2.06-.94-2.06-.94-.94-2.06-.94 2.06-2.06.94z\"/><path d=\"M17.41 7.96l-1.37-1.37c-.4-.4-.92-.59-1.43-.59-.52 0-1.04.2-1.43.59L10.3 9.45l-7.72 7.72c-.78.78-.78 2.05 0 2.83L4 21.41c.39.39.9.59 1.41.59.51 0 1.02-.2 1.41-.59l7.78-7.78 2.81-2.81c.8-.78.8-2.07 0-2.86zM5.41 20L4 18.59l7.72-7.72 1.47 1.35L5.41 20z\"/>\n",
              "  </svg>\n",
              "      </button>\n",
              "\n",
              "\n",
              "\n",
              "    <div id=\"df-e2174c45-4de4-4241-9966-2ab5455a9d95\">\n",
              "      <button class=\"colab-df-quickchart\" onclick=\"quickchart('df-e2174c45-4de4-4241-9966-2ab5455a9d95')\"\n",
              "              title=\"Suggest charts.\"\n",
              "              style=\"display:none;\">\n",
              "\n",
              "<svg xmlns=\"http://www.w3.org/2000/svg\" height=\"24px\"viewBox=\"0 0 24 24\"\n",
              "     width=\"24px\">\n",
              "    <g>\n",
              "        <path d=\"M19 3H5c-1.1 0-2 .9-2 2v14c0 1.1.9 2 2 2h14c1.1 0 2-.9 2-2V5c0-1.1-.9-2-2-2zM9 17H7v-7h2v7zm4 0h-2V7h2v10zm4 0h-2v-4h2v4z\"/>\n",
              "    </g>\n",
              "</svg>\n",
              "      </button>\n",
              "    </div>\n",
              "\n",
              "<style>\n",
              "  .colab-df-quickchart {\n",
              "    background-color: #E8F0FE;\n",
              "    border: none;\n",
              "    border-radius: 50%;\n",
              "    cursor: pointer;\n",
              "    display: none;\n",
              "    fill: #1967D2;\n",
              "    height: 32px;\n",
              "    padding: 0 0 0 0;\n",
              "    width: 32px;\n",
              "  }\n",
              "\n",
              "  .colab-df-quickchart:hover {\n",
              "    background-color: #E2EBFA;\n",
              "    box-shadow: 0px 1px 2px rgba(60, 64, 67, 0.3), 0px 1px 3px 1px rgba(60, 64, 67, 0.15);\n",
              "    fill: #174EA6;\n",
              "  }\n",
              "\n",
              "  [theme=dark] .colab-df-quickchart {\n",
              "    background-color: #3B4455;\n",
              "    fill: #D2E3FC;\n",
              "  }\n",
              "\n",
              "  [theme=dark] .colab-df-quickchart:hover {\n",
              "    background-color: #434B5C;\n",
              "    box-shadow: 0px 1px 3px 1px rgba(0, 0, 0, 0.15);\n",
              "    filter: drop-shadow(0px 1px 2px rgba(0, 0, 0, 0.3));\n",
              "    fill: #FFFFFF;\n",
              "  }\n",
              "</style>\n",
              "\n",
              "    <script>\n",
              "      async function quickchart(key) {\n",
              "        const containerElement = document.querySelector('#' + key);\n",
              "        const charts = await google.colab.kernel.invokeFunction(\n",
              "            'suggestCharts', [key], {});\n",
              "      }\n",
              "    </script>\n",
              "\n",
              "      <script>\n",
              "\n",
              "function displayQuickchartButton(domScope) {\n",
              "  let quickchartButtonEl =\n",
              "    domScope.querySelector('#df-e2174c45-4de4-4241-9966-2ab5455a9d95 button.colab-df-quickchart');\n",
              "  quickchartButtonEl.style.display =\n",
              "    google.colab.kernel.accessAllowed ? 'block' : 'none';\n",
              "}\n",
              "\n",
              "        displayQuickchartButton(document);\n",
              "      </script>\n",
              "      <style>\n",
              "    .colab-df-container {\n",
              "      display:flex;\n",
              "      flex-wrap:wrap;\n",
              "      gap: 12px;\n",
              "    }\n",
              "\n",
              "    .colab-df-convert {\n",
              "      background-color: #E8F0FE;\n",
              "      border: none;\n",
              "      border-radius: 50%;\n",
              "      cursor: pointer;\n",
              "      display: none;\n",
              "      fill: #1967D2;\n",
              "      height: 32px;\n",
              "      padding: 0 0 0 0;\n",
              "      width: 32px;\n",
              "    }\n",
              "\n",
              "    .colab-df-convert:hover {\n",
              "      background-color: #E2EBFA;\n",
              "      box-shadow: 0px 1px 2px rgba(60, 64, 67, 0.3), 0px 1px 3px 1px rgba(60, 64, 67, 0.15);\n",
              "      fill: #174EA6;\n",
              "    }\n",
              "\n",
              "    [theme=dark] .colab-df-convert {\n",
              "      background-color: #3B4455;\n",
              "      fill: #D2E3FC;\n",
              "    }\n",
              "\n",
              "    [theme=dark] .colab-df-convert:hover {\n",
              "      background-color: #434B5C;\n",
              "      box-shadow: 0px 1px 3px 1px rgba(0, 0, 0, 0.15);\n",
              "      filter: drop-shadow(0px 1px 2px rgba(0, 0, 0, 0.3));\n",
              "      fill: #FFFFFF;\n",
              "    }\n",
              "  </style>\n",
              "\n",
              "      <script>\n",
              "        const buttonEl =\n",
              "          document.querySelector('#df-f77d7400-00eb-4174-a9f7-dc7c8bcc5c9e button.colab-df-convert');\n",
              "        buttonEl.style.display =\n",
              "          google.colab.kernel.accessAllowed ? 'block' : 'none';\n",
              "\n",
              "        async function convertToInteractive(key) {\n",
              "          const element = document.querySelector('#df-f77d7400-00eb-4174-a9f7-dc7c8bcc5c9e');\n",
              "          const dataTable =\n",
              "            await google.colab.kernel.invokeFunction('convertToInteractive',\n",
              "                                                     [key], {});\n",
              "          if (!dataTable) return;\n",
              "\n",
              "          const docLinkHtml = 'Like what you see? Visit the ' +\n",
              "            '<a target=\"_blank\" href=https://colab.research.google.com/notebooks/data_table.ipynb>data table notebook</a>'\n",
              "            + ' to learn more about interactive tables.';\n",
              "          element.innerHTML = '';\n",
              "          dataTable['output_type'] = 'display_data';\n",
              "          await google.colab.output.renderOutput(dataTable, element);\n",
              "          const docLink = document.createElement('div');\n",
              "          docLink.innerHTML = docLinkHtml;\n",
              "          element.appendChild(docLink);\n",
              "        }\n",
              "      </script>\n",
              "    </div>\n",
              "  </div>\n"
            ]
          },
          "metadata": {},
          "execution_count": 40
        }
      ]
    },
    {
      "cell_type": "markdown",
      "source": [
        "# Feature extraction using Vectorization"
      ],
      "metadata": {
        "id": "MgVEsG4woQrp"
      }
    },
    {
      "cell_type": "markdown",
      "source": [
        "##TF-IDF (term frequency-inverse document frequency) Method"
      ],
      "metadata": {
        "id": "gmqtNVlOoTLd"
      }
    },
    {
      "cell_type": "code",
      "source": [
        "from sklearn.feature_extraction.text import TfidfVectorizer\n",
        "vector_=TfidfVectorizer(stop_words='english',use_idf=True,smooth_idf=True)\n",
        "\n",
        "def get_ifidf_vectors(df):\n",
        "  train_features = df['doc_data']\n",
        "  return vector_.fit_transform(train_features)"
      ],
      "metadata": {
        "id": "vQ4ristiogZw"
      },
      "execution_count": 41,
      "outputs": []
    },
    {
      "cell_type": "markdown",
      "source": [
        "**'max_df': float or int, default=1.0 ( range is 0.0 to 1.0)**\n",
        "Definition: Ignore words/terms appearing in 100% of the documents, we can tweak to keep at any value within the range e.g. 0.5,0.75 (50% or 75%)\n",
        "\n",
        "**'min_df': float or int, default=1 (range is 0 to 1)**\n",
        "Definition: Ignore words/terms that are not present in atleast all the documents (default value=1). We can tweak it as 0.5,0.05,0.75 (50%,5%,75%)\n",
        "\n",
        "**use_idf: bool, default=True**\n",
        "Enable inverse-document-frequency reweighting. If False, idf(t) = 1.\n",
        "\n",
        "**smooth_idf: bool, default=True**\n",
        "Smooth idf weights by adding one to document frequencies, as if an extra document was seen containing every term in the collection exactly once. Prevents zero divisions."
      ],
      "metadata": {
        "id": "u_ILiUGO39t_"
      }
    },
    {
      "cell_type": "code",
      "source": [
        "x_train_tfidf_vectors = get_ifidf_vectors(x_train)\n",
        "x_eval_tfidf_vectors = vector_.transform(x_eval['doc_data'])"
      ],
      "metadata": {
        "id": "WRhW94tKow_o"
      },
      "execution_count": 42,
      "outputs": []
    },
    {
      "cell_type": "markdown",
      "source": [
        "##CounterVectorize Method"
      ],
      "metadata": {
        "id": "EFoa7sE0pGm8"
      }
    },
    {
      "cell_type": "code",
      "source": [
        "from sklearn.feature_extraction.text import CountVectorizer\n",
        "cv = CountVectorizer()\n",
        "def get_cv_vectors(df):\n",
        "  train_features = df['doc_data']\n",
        "  return cv.fit_transform(train_features)"
      ],
      "metadata": {
        "id": "lAVK5KcMpJcD"
      },
      "execution_count": 43,
      "outputs": []
    },
    {
      "cell_type": "code",
      "source": [
        "x_train_cv = get_cv_vectors(x_train)\n",
        "x_eval_cv = cv.transform(x_eval['doc_data'])"
      ],
      "metadata": {
        "id": "6eNbZCCUq9U5"
      },
      "execution_count": 44,
      "outputs": []
    },
    {
      "cell_type": "markdown",
      "source": [
        "#ML Modelling"
      ],
      "metadata": {
        "id": "t6_CFYars8Ez"
      }
    },
    {
      "cell_type": "code",
      "source": [
        "from sklearn.naive_bayes import MultinomialNB\n",
        "import pandas as pd\n",
        "from sklearn import metrics\n",
        "\n",
        "model=MultinomialNB()\n",
        "\n",
        "x_train_target = x_train['Topic']\n",
        "x_eval_target =x_eval['Topic']"
      ],
      "metadata": {
        "id": "8OoKcitMtHKl"
      },
      "execution_count": 45,
      "outputs": []
    },
    {
      "cell_type": "markdown",
      "source": [
        "**Using TF-IDF vectors**"
      ],
      "metadata": {
        "id": "rnZ7VjeotAHn"
      }
    },
    {
      "cell_type": "code",
      "source": [
        "model.fit(x_train_tfidf_vectors, x_train_target)\n",
        "predictions_tfidf = model.predict(x_eval_tfidf_vectors)\n",
        "predictions_tfidf"
      ],
      "metadata": {
        "colab": {
          "base_uri": "https://localhost:8080/"
        },
        "id": "c-y0nnkYtFg3",
        "outputId": "d1266d1a-3ab2-4c4b-c589-8fc5ab4b3b87"
      },
      "execution_count": 46,
      "outputs": [
        {
          "output_type": "execute_result",
          "data": {
            "text/plain": [
              "array(['Animal Species', 'Animal Species', 'Animal Species', ...,\n",
              "       'Animal Species', 'Animal Species', 'Plant Species'], dtype='<U14')"
            ]
          },
          "metadata": {},
          "execution_count": 46
        }
      ]
    },
    {
      "cell_type": "code",
      "source": [
        "df_tfidf = pd.DataFrame(metrics.confusion_matrix(x_eval_target,predictions_tfidf), index=['Animal Species','Not Applicable','Plant Species'], columns=['Animal Species','Not Applicable','Plant Species'])\n",
        "\n",
        "df_tfidf"
      ],
      "metadata": {
        "colab": {
          "base_uri": "https://localhost:8080/",
          "height": 143
        },
        "id": "n8u45xlnt7bS",
        "outputId": "a507b96d-ecbd-4085-f7da-7153ac4ee50e"
      },
      "execution_count": 47,
      "outputs": [
        {
          "output_type": "execute_result",
          "data": {
            "text/plain": [
              "                Animal Species  Not Applicable  Plant Species\n",
              "Animal Species            2197               0              0\n",
              "Not Applicable             746               3             16\n",
              "Plant Species              148               0            850"
            ],
            "text/html": [
              "\n",
              "\n",
              "  <div id=\"df-f9f6125d-9bd8-4a40-a5e2-f2dc32af0a87\">\n",
              "    <div class=\"colab-df-container\">\n",
              "      <div>\n",
              "<style scoped>\n",
              "    .dataframe tbody tr th:only-of-type {\n",
              "        vertical-align: middle;\n",
              "    }\n",
              "\n",
              "    .dataframe tbody tr th {\n",
              "        vertical-align: top;\n",
              "    }\n",
              "\n",
              "    .dataframe thead th {\n",
              "        text-align: right;\n",
              "    }\n",
              "</style>\n",
              "<table border=\"1\" class=\"dataframe\">\n",
              "  <thead>\n",
              "    <tr style=\"text-align: right;\">\n",
              "      <th></th>\n",
              "      <th>Animal Species</th>\n",
              "      <th>Not Applicable</th>\n",
              "      <th>Plant Species</th>\n",
              "    </tr>\n",
              "  </thead>\n",
              "  <tbody>\n",
              "    <tr>\n",
              "      <th>Animal Species</th>\n",
              "      <td>2197</td>\n",
              "      <td>0</td>\n",
              "      <td>0</td>\n",
              "    </tr>\n",
              "    <tr>\n",
              "      <th>Not Applicable</th>\n",
              "      <td>746</td>\n",
              "      <td>3</td>\n",
              "      <td>16</td>\n",
              "    </tr>\n",
              "    <tr>\n",
              "      <th>Plant Species</th>\n",
              "      <td>148</td>\n",
              "      <td>0</td>\n",
              "      <td>850</td>\n",
              "    </tr>\n",
              "  </tbody>\n",
              "</table>\n",
              "</div>\n",
              "      <button class=\"colab-df-convert\" onclick=\"convertToInteractive('df-f9f6125d-9bd8-4a40-a5e2-f2dc32af0a87')\"\n",
              "              title=\"Convert this dataframe to an interactive table.\"\n",
              "              style=\"display:none;\">\n",
              "\n",
              "  <svg xmlns=\"http://www.w3.org/2000/svg\" height=\"24px\"viewBox=\"0 0 24 24\"\n",
              "       width=\"24px\">\n",
              "    <path d=\"M0 0h24v24H0V0z\" fill=\"none\"/>\n",
              "    <path d=\"M18.56 5.44l.94 2.06.94-2.06 2.06-.94-2.06-.94-.94-2.06-.94 2.06-2.06.94zm-11 1L8.5 8.5l.94-2.06 2.06-.94-2.06-.94L8.5 2.5l-.94 2.06-2.06.94zm10 10l.94 2.06.94-2.06 2.06-.94-2.06-.94-.94-2.06-.94 2.06-2.06.94z\"/><path d=\"M17.41 7.96l-1.37-1.37c-.4-.4-.92-.59-1.43-.59-.52 0-1.04.2-1.43.59L10.3 9.45l-7.72 7.72c-.78.78-.78 2.05 0 2.83L4 21.41c.39.39.9.59 1.41.59.51 0 1.02-.2 1.41-.59l7.78-7.78 2.81-2.81c.8-.78.8-2.07 0-2.86zM5.41 20L4 18.59l7.72-7.72 1.47 1.35L5.41 20z\"/>\n",
              "  </svg>\n",
              "      </button>\n",
              "\n",
              "\n",
              "\n",
              "    <div id=\"df-0abaace0-976c-4d62-99ac-5752b8706d26\">\n",
              "      <button class=\"colab-df-quickchart\" onclick=\"quickchart('df-0abaace0-976c-4d62-99ac-5752b8706d26')\"\n",
              "              title=\"Suggest charts.\"\n",
              "              style=\"display:none;\">\n",
              "\n",
              "<svg xmlns=\"http://www.w3.org/2000/svg\" height=\"24px\"viewBox=\"0 0 24 24\"\n",
              "     width=\"24px\">\n",
              "    <g>\n",
              "        <path d=\"M19 3H5c-1.1 0-2 .9-2 2v14c0 1.1.9 2 2 2h14c1.1 0 2-.9 2-2V5c0-1.1-.9-2-2-2zM9 17H7v-7h2v7zm4 0h-2V7h2v10zm4 0h-2v-4h2v4z\"/>\n",
              "    </g>\n",
              "</svg>\n",
              "      </button>\n",
              "    </div>\n",
              "\n",
              "<style>\n",
              "  .colab-df-quickchart {\n",
              "    background-color: #E8F0FE;\n",
              "    border: none;\n",
              "    border-radius: 50%;\n",
              "    cursor: pointer;\n",
              "    display: none;\n",
              "    fill: #1967D2;\n",
              "    height: 32px;\n",
              "    padding: 0 0 0 0;\n",
              "    width: 32px;\n",
              "  }\n",
              "\n",
              "  .colab-df-quickchart:hover {\n",
              "    background-color: #E2EBFA;\n",
              "    box-shadow: 0px 1px 2px rgba(60, 64, 67, 0.3), 0px 1px 3px 1px rgba(60, 64, 67, 0.15);\n",
              "    fill: #174EA6;\n",
              "  }\n",
              "\n",
              "  [theme=dark] .colab-df-quickchart {\n",
              "    background-color: #3B4455;\n",
              "    fill: #D2E3FC;\n",
              "  }\n",
              "\n",
              "  [theme=dark] .colab-df-quickchart:hover {\n",
              "    background-color: #434B5C;\n",
              "    box-shadow: 0px 1px 3px 1px rgba(0, 0, 0, 0.15);\n",
              "    filter: drop-shadow(0px 1px 2px rgba(0, 0, 0, 0.3));\n",
              "    fill: #FFFFFF;\n",
              "  }\n",
              "</style>\n",
              "\n",
              "    <script>\n",
              "      async function quickchart(key) {\n",
              "        const containerElement = document.querySelector('#' + key);\n",
              "        const charts = await google.colab.kernel.invokeFunction(\n",
              "            'suggestCharts', [key], {});\n",
              "      }\n",
              "    </script>\n",
              "\n",
              "      <script>\n",
              "\n",
              "function displayQuickchartButton(domScope) {\n",
              "  let quickchartButtonEl =\n",
              "    domScope.querySelector('#df-0abaace0-976c-4d62-99ac-5752b8706d26 button.colab-df-quickchart');\n",
              "  quickchartButtonEl.style.display =\n",
              "    google.colab.kernel.accessAllowed ? 'block' : 'none';\n",
              "}\n",
              "\n",
              "        displayQuickchartButton(document);\n",
              "      </script>\n",
              "      <style>\n",
              "    .colab-df-container {\n",
              "      display:flex;\n",
              "      flex-wrap:wrap;\n",
              "      gap: 12px;\n",
              "    }\n",
              "\n",
              "    .colab-df-convert {\n",
              "      background-color: #E8F0FE;\n",
              "      border: none;\n",
              "      border-radius: 50%;\n",
              "      cursor: pointer;\n",
              "      display: none;\n",
              "      fill: #1967D2;\n",
              "      height: 32px;\n",
              "      padding: 0 0 0 0;\n",
              "      width: 32px;\n",
              "    }\n",
              "\n",
              "    .colab-df-convert:hover {\n",
              "      background-color: #E2EBFA;\n",
              "      box-shadow: 0px 1px 2px rgba(60, 64, 67, 0.3), 0px 1px 3px 1px rgba(60, 64, 67, 0.15);\n",
              "      fill: #174EA6;\n",
              "    }\n",
              "\n",
              "    [theme=dark] .colab-df-convert {\n",
              "      background-color: #3B4455;\n",
              "      fill: #D2E3FC;\n",
              "    }\n",
              "\n",
              "    [theme=dark] .colab-df-convert:hover {\n",
              "      background-color: #434B5C;\n",
              "      box-shadow: 0px 1px 3px 1px rgba(0, 0, 0, 0.15);\n",
              "      filter: drop-shadow(0px 1px 2px rgba(0, 0, 0, 0.3));\n",
              "      fill: #FFFFFF;\n",
              "    }\n",
              "  </style>\n",
              "\n",
              "      <script>\n",
              "        const buttonEl =\n",
              "          document.querySelector('#df-f9f6125d-9bd8-4a40-a5e2-f2dc32af0a87 button.colab-df-convert');\n",
              "        buttonEl.style.display =\n",
              "          google.colab.kernel.accessAllowed ? 'block' : 'none';\n",
              "\n",
              "        async function convertToInteractive(key) {\n",
              "          const element = document.querySelector('#df-f9f6125d-9bd8-4a40-a5e2-f2dc32af0a87');\n",
              "          const dataTable =\n",
              "            await google.colab.kernel.invokeFunction('convertToInteractive',\n",
              "                                                     [key], {});\n",
              "          if (!dataTable) return;\n",
              "\n",
              "          const docLinkHtml = 'Like what you see? Visit the ' +\n",
              "            '<a target=\"_blank\" href=https://colab.research.google.com/notebooks/data_table.ipynb>data table notebook</a>'\n",
              "            + ' to learn more about interactive tables.';\n",
              "          element.innerHTML = '';\n",
              "          dataTable['output_type'] = 'display_data';\n",
              "          await google.colab.output.renderOutput(dataTable, element);\n",
              "          const docLink = document.createElement('div');\n",
              "          docLink.innerHTML = docLinkHtml;\n",
              "          element.appendChild(docLink);\n",
              "        }\n",
              "      </script>\n",
              "    </div>\n",
              "  </div>\n"
            ]
          },
          "metadata": {},
          "execution_count": 47
        }
      ]
    },
    {
      "cell_type": "code",
      "source": [
        "model.classes_"
      ],
      "metadata": {
        "colab": {
          "base_uri": "https://localhost:8080/"
        },
        "id": "k2PtsQi6B9Vu",
        "outputId": "ed011adf-e609-49cc-936e-5e5dc84a4b8a"
      },
      "execution_count": 54,
      "outputs": [
        {
          "output_type": "execute_result",
          "data": {
            "text/plain": [
              "array(['Animal Species', 'Not Applicable', 'Plant Species'], dtype='<U14')"
            ]
          },
          "metadata": {},
          "execution_count": 54
        }
      ]
    },
    {
      "cell_type": "code",
      "source": [
        "from sklearn.metrics import ConfusionMatrixDisplay\n",
        "ConfusionMatrixDisplay.from_predictions(x_eval_target,predictions_tfidf)\n"
      ],
      "metadata": {
        "colab": {
          "base_uri": "https://localhost:8080/",
          "height": 466
        },
        "id": "L7g286dI6YaY",
        "outputId": "a1ffb5c0-875d-444f-e298-450d8109ea5c"
      },
      "execution_count": 49,
      "outputs": [
        {
          "output_type": "execute_result",
          "data": {
            "text/plain": [
              "<sklearn.metrics._plot.confusion_matrix.ConfusionMatrixDisplay at 0x7c4ce1a6cc10>"
            ]
          },
          "metadata": {},
          "execution_count": 49
        },
        {
          "output_type": "display_data",
          "data": {
            "text/plain": [
              "<Figure size 640x480 with 2 Axes>"
            ],
            "image/png": "[encoded data removed]"
          },
          "metadata": {}
        }
      ]
    },
    {
      "cell_type": "markdown",
      "source": [
        "**Using CounterVectors**"
      ],
      "metadata": {
        "id": "0zLjcYV4uLeu"
      }
    },
    {
      "cell_type": "code",
      "source": [
        "model_cv=MultinomialNB()\n",
        "model_cv.fit(x_train_cv, x_train_target)\n",
        "predictions_cv = model_cv.predict(x_eval_cv)\n",
        "predictions_cv"
      ],
      "metadata": {
        "colab": {
          "base_uri": "https://localhost:8080/"
        },
        "id": "9qMqVLQ5uPRw",
        "outputId": "28cb4f9b-94fb-4462-82e3-37cce7a569db"
      },
      "execution_count": 55,
      "outputs": [
        {
          "output_type": "execute_result",
          "data": {
            "text/plain": [
              "array(['Animal Species', 'Animal Species', 'Animal Species', ...,\n",
              "       'Animal Species', 'Animal Species', 'Plant Species'], dtype='<U14')"
            ]
          },
          "metadata": {},
          "execution_count": 55
        }
      ]
    },
    {
      "cell_type": "code",
      "source": [
        "df_cv = pd.DataFrame(metrics.confusion_matrix(x_eval_target,predictions_cv), index=['Animal Species','Not Applicable','Plant Species'], columns=['Animal Species','Not Applicable','Plant Species'])\n",
        "\n",
        "df_cv"
      ],
      "metadata": {
        "colab": {
          "base_uri": "https://localhost:8080/",
          "height": 143
        },
        "id": "uEwiufnyuj4K",
        "outputId": "0020450b-1577-46e0-cc27-408c5b702bb5"
      },
      "execution_count": 56,
      "outputs": [
        {
          "output_type": "execute_result",
          "data": {
            "text/plain": [
              "                Animal Species  Not Applicable  Plant Species\n",
              "Animal Species            2141              44             12\n",
              "Not Applicable              99             638             28\n",
              "Plant Species                8              18            972"
            ],
            "text/html": [
              "\n",
              "\n",
              "  <div id=\"df-a7388335-26c4-4755-ac64-48d8ce6eb94c\">\n",
              "    <div class=\"colab-df-container\">\n",
              "      <div>\n",
              "<style scoped>\n",
              "    .dataframe tbody tr th:only-of-type {\n",
              "        vertical-align: middle;\n",
              "    }\n",
              "\n",
              "    .dataframe tbody tr th {\n",
              "        vertical-align: top;\n",
              "    }\n",
              "\n",
              "    .dataframe thead th {\n",
              "        text-align: right;\n",
              "    }\n",
              "</style>\n",
              "<table border=\"1\" class=\"dataframe\">\n",
              "  <thead>\n",
              "    <tr style=\"text-align: right;\">\n",
              "      <th></th>\n",
              "      <th>Animal Species</th>\n",
              "      <th>Not Applicable</th>\n",
              "      <th>Plant Species</th>\n",
              "    </tr>\n",
              "  </thead>\n",
              "  <tbody>\n",
              "    <tr>\n",
              "      <th>Animal Species</th>\n",
              "      <td>2141</td>\n",
              "      <td>44</td>\n",
              "      <td>12</td>\n",
              "    </tr>\n",
              "    <tr>\n",
              "      <th>Not Applicable</th>\n",
              "      <td>99</td>\n",
              "      <td>638</td>\n",
              "      <td>28</td>\n",
              "    </tr>\n",
              "    <tr>\n",
              "      <th>Plant Species</th>\n",
              "      <td>8</td>\n",
              "      <td>18</td>\n",
              "      <td>972</td>\n",
              "    </tr>\n",
              "  </tbody>\n",
              "</table>\n",
              "</div>\n",
              "      <button class=\"colab-df-convert\" onclick=\"convertToInteractive('df-a7388335-26c4-4755-ac64-48d8ce6eb94c')\"\n",
              "              title=\"Convert this dataframe to an interactive table.\"\n",
              "              style=\"display:none;\">\n",
              "\n",
              "  <svg xmlns=\"http://www.w3.org/2000/svg\" height=\"24px\"viewBox=\"0 0 24 24\"\n",
              "       width=\"24px\">\n",
              "    <path d=\"M0 0h24v24H0V0z\" fill=\"none\"/>\n",
              "    <path d=\"M18.56 5.44l.94 2.06.94-2.06 2.06-.94-2.06-.94-.94-2.06-.94 2.06-2.06.94zm-11 1L8.5 8.5l.94-2.06 2.06-.94-2.06-.94L8.5 2.5l-.94 2.06-2.06.94zm10 10l.94 2.06.94-2.06 2.06-.94-2.06-.94-.94-2.06-.94 2.06-2.06.94z\"/><path d=\"M17.41 7.96l-1.37-1.37c-.4-.4-.92-.59-1.43-.59-.52 0-1.04.2-1.43.59L10.3 9.45l-7.72 7.72c-.78.78-.78 2.05 0 2.83L4 21.41c.39.39.9.59 1.41.59.51 0 1.02-.2 1.41-.59l7.78-7.78 2.81-2.81c.8-.78.8-2.07 0-2.86zM5.41 20L4 18.59l7.72-7.72 1.47 1.35L5.41 20z\"/>\n",
              "  </svg>\n",
              "      </button>\n",
              "\n",
              "\n",
              "\n",
              "    <div id=\"df-4646880d-c0ea-4c34-b029-c331fa81a406\">\n",
              "      <button class=\"colab-df-quickchart\" onclick=\"quickchart('df-4646880d-c0ea-4c34-b029-c331fa81a406')\"\n",
              "              title=\"Suggest charts.\"\n",
              "              style=\"display:none;\">\n",
              "\n",
              "<svg xmlns=\"http://www.w3.org/2000/svg\" height=\"24px\"viewBox=\"0 0 24 24\"\n",
              "     width=\"24px\">\n",
              "    <g>\n",
              "        <path d=\"M19 3H5c-1.1 0-2 .9-2 2v14c0 1.1.9 2 2 2h14c1.1 0 2-.9 2-2V5c0-1.1-.9-2-2-2zM9 17H7v-7h2v7zm4 0h-2V7h2v10zm4 0h-2v-4h2v4z\"/>\n",
              "    </g>\n",
              "</svg>\n",
              "      </button>\n",
              "    </div>\n",
              "\n",
              "<style>\n",
              "  .colab-df-quickchart {\n",
              "    background-color: #E8F0FE;\n",
              "    border: none;\n",
              "    border-radius: 50%;\n",
              "    cursor: pointer;\n",
              "    display: none;\n",
              "    fill: #1967D2;\n",
              "    height: 32px;\n",
              "    padding: 0 0 0 0;\n",
              "    width: 32px;\n",
              "  }\n",
              "\n",
              "  .colab-df-quickchart:hover {\n",
              "    background-color: #E2EBFA;\n",
              "    box-shadow: 0px 1px 2px rgba(60, 64, 67, 0.3), 0px 1px 3px 1px rgba(60, 64, 67, 0.15);\n",
              "    fill: #174EA6;\n",
              "  }\n",
              "\n",
              "  [theme=dark] .colab-df-quickchart {\n",
              "    background-color: #3B4455;\n",
              "    fill: #D2E3FC;\n",
              "  }\n",
              "\n",
              "  [theme=dark] .colab-df-quickchart:hover {\n",
              "    background-color: #434B5C;\n",
              "    box-shadow: 0px 1px 3px 1px rgba(0, 0, 0, 0.15);\n",
              "    filter: drop-shadow(0px 1px 2px rgba(0, 0, 0, 0.3));\n",
              "    fill: #FFFFFF;\n",
              "  }\n",
              "</style>\n",
              "\n",
              "    <script>\n",
              "      async function quickchart(key) {\n",
              "        const containerElement = document.querySelector('#' + key);\n",
              "        const charts = await google.colab.kernel.invokeFunction(\n",
              "            'suggestCharts', [key], {});\n",
              "      }\n",
              "    </script>\n",
              "\n",
              "      <script>\n",
              "\n",
              "function displayQuickchartButton(domScope) {\n",
              "  let quickchartButtonEl =\n",
              "    domScope.querySelector('#df-4646880d-c0ea-4c34-b029-c331fa81a406 button.colab-df-quickchart');\n",
              "  quickchartButtonEl.style.display =\n",
              "    google.colab.kernel.accessAllowed ? 'block' : 'none';\n",
              "}\n",
              "\n",
              "        displayQuickchartButton(document);\n",
              "      </script>\n",
              "      <style>\n",
              "    .colab-df-container {\n",
              "      display:flex;\n",
              "      flex-wrap:wrap;\n",
              "      gap: 12px;\n",
              "    }\n",
              "\n",
              "    .colab-df-convert {\n",
              "      background-color: #E8F0FE;\n",
              "      border: none;\n",
              "      border-radius: 50%;\n",
              "      cursor: pointer;\n",
              "      display: none;\n",
              "      fill: #1967D2;\n",
              "      height: 32px;\n",
              "      padding: 0 0 0 0;\n",
              "      width: 32px;\n",
              "    }\n",
              "\n",
              "    .colab-df-convert:hover {\n",
              "      background-color: #E2EBFA;\n",
              "      box-shadow: 0px 1px 2px rgba(60, 64, 67, 0.3), 0px 1px 3px 1px rgba(60, 64, 67, 0.15);\n",
              "      fill: #174EA6;\n",
              "    }\n",
              "\n",
              "    [theme=dark] .colab-df-convert {\n",
              "      background-color: #3B4455;\n",
              "      fill: #D2E3FC;\n",
              "    }\n",
              "\n",
              "    [theme=dark] .colab-df-convert:hover {\n",
              "      background-color: #434B5C;\n",
              "      box-shadow: 0px 1px 3px 1px rgba(0, 0, 0, 0.15);\n",
              "      filter: drop-shadow(0px 1px 2px rgba(0, 0, 0, 0.3));\n",
              "      fill: #FFFFFF;\n",
              "    }\n",
              "  </style>\n",
              "\n",
              "      <script>\n",
              "        const buttonEl =\n",
              "          document.querySelector('#df-a7388335-26c4-4755-ac64-48d8ce6eb94c button.colab-df-convert');\n",
              "        buttonEl.style.display =\n",
              "          google.colab.kernel.accessAllowed ? 'block' : 'none';\n",
              "\n",
              "        async function convertToInteractive(key) {\n",
              "          const element = document.querySelector('#df-a7388335-26c4-4755-ac64-48d8ce6eb94c');\n",
              "          const dataTable =\n",
              "            await google.colab.kernel.invokeFunction('convertToInteractive',\n",
              "                                                     [key], {});\n",
              "          if (!dataTable) return;\n",
              "\n",
              "          const docLinkHtml = 'Like what you see? Visit the ' +\n",
              "            '<a target=\"_blank\" href=https://colab.research.google.com/notebooks/data_table.ipynb>data table notebook</a>'\n",
              "            + ' to learn more about interactive tables.';\n",
              "          element.innerHTML = '';\n",
              "          dataTable['output_type'] = 'display_data';\n",
              "          await google.colab.output.renderOutput(dataTable, element);\n",
              "          const docLink = document.createElement('div');\n",
              "          docLink.innerHTML = docLinkHtml;\n",
              "          element.appendChild(docLink);\n",
              "        }\n",
              "      </script>\n",
              "    </div>\n",
              "  </div>\n"
            ]
          },
          "metadata": {},
          "execution_count": 56
        }
      ]
    },
    {
      "cell_type": "code",
      "source": [
        "from sklearn.metrics import ConfusionMatrixDisplay\n",
        "ConfusionMatrixDisplay.from_predictions(x_eval_target,predictions_cv)"
      ],
      "metadata": {
        "colab": {
          "base_uri": "https://localhost:8080/",
          "height": 466
        },
        "id": "4s4uDuZw6RFg",
        "outputId": "9da022a8-bb4c-44b7-8ada-1bfe3c0e7c48"
      },
      "execution_count": 57,
      "outputs": [
        {
          "output_type": "execute_result",
          "data": {
            "text/plain": [
              "<sklearn.metrics._plot.confusion_matrix.ConfusionMatrixDisplay at 0x7c4ca1a1c6d0>"
            ]
          },
          "metadata": {},
          "execution_count": 57
        },
        {
          "output_type": "display_data",
          "data": {
            "text/plain": [
              "<Figure size 640x480 with 2 Axes>"
            ],
            "image/png": "[encoded data removed]"
          },
          "metadata": {}
        }
      ]
    },
    {
      "cell_type": "markdown",
      "source": [
        "We can see CounterVectorizer classification does a better job.\n"
      ],
      "metadata": {
        "id": "SaUogBnUMrED"
      }
    },
    {
      "cell_type": "markdown",
      "source": [],
      "metadata": {
        "id": "y1KnytUTYTAF"
      }
    }
  ]
}